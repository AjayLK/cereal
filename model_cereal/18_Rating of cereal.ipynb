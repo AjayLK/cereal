{
 "cells": [
  {
   "cell_type": "code",
   "execution_count": 1,
   "id": "ff70ebea",
   "metadata": {},
   "outputs": [],
   "source": [
    "import numpy as np\n",
    "import pandas as pd\n",
    "import seaborn as sns\n",
    "import matplotlib as plt\n",
    "from statsmodels.stats.outliers_influence import variance_inflation_factor\n",
    "from sklearn.linear_model import LinearRegression\n",
    "from sklearn.model_selection import train_test_split,GridSearchCV,RandomizedSearchCV\n",
    "from sklearn.metrics import mean_absolute_error,mean_squared_error,r2_score\n",
    "from sklearn.preprocessing import LabelEncoder,OneHotEncoder\n",
    "from sklearn import preprocessing\n",
    "from scipy.stats import zscore,shapiro,kstest,normaltest\n",
    "import warnings\n",
    "warnings.filterwarnings(\"ignore\")"
   ]
  },
  {
   "cell_type": "markdown",
   "id": "f25a65c3",
   "metadata": {},
   "source": [
    "# Problem Statement "
   ]
  },
  {
   "cell_type": "raw",
   "id": "cb5490ac",
   "metadata": {},
   "source": [
    "To predict the rating of the cereal by using different features"
   ]
  },
  {
   "cell_type": "markdown",
   "id": "40a8f90e",
   "metadata": {},
   "source": [
    "# Data Gathering"
   ]
  },
  {
   "cell_type": "code",
   "execution_count": 2,
   "id": "573902c6",
   "metadata": {},
   "outputs": [
    {
     "data": {
      "text/html": [
       "<div>\n",
       "<style scoped>\n",
       "    .dataframe tbody tr th:only-of-type {\n",
       "        vertical-align: middle;\n",
       "    }\n",
       "\n",
       "    .dataframe tbody tr th {\n",
       "        vertical-align: top;\n",
       "    }\n",
       "\n",
       "    .dataframe thead th {\n",
       "        text-align: right;\n",
       "    }\n",
       "</style>\n",
       "<table border=\"1\" class=\"dataframe\">\n",
       "  <thead>\n",
       "    <tr style=\"text-align: right;\">\n",
       "      <th></th>\n",
       "      <th>name</th>\n",
       "      <th>mfr</th>\n",
       "      <th>type</th>\n",
       "      <th>calories</th>\n",
       "      <th>protein</th>\n",
       "      <th>fat</th>\n",
       "      <th>sodium</th>\n",
       "      <th>fiber</th>\n",
       "      <th>carbo</th>\n",
       "      <th>sugars</th>\n",
       "      <th>potass</th>\n",
       "      <th>vitamins</th>\n",
       "      <th>shelf</th>\n",
       "      <th>weight</th>\n",
       "      <th>cups</th>\n",
       "      <th>rating</th>\n",
       "    </tr>\n",
       "  </thead>\n",
       "  <tbody>\n",
       "    <tr>\n",
       "      <th>0</th>\n",
       "      <td>100% Bran</td>\n",
       "      <td>N</td>\n",
       "      <td>C</td>\n",
       "      <td>70</td>\n",
       "      <td>4</td>\n",
       "      <td>1</td>\n",
       "      <td>130</td>\n",
       "      <td>10.0</td>\n",
       "      <td>5.0</td>\n",
       "      <td>6</td>\n",
       "      <td>280</td>\n",
       "      <td>25</td>\n",
       "      <td>3</td>\n",
       "      <td>1.0</td>\n",
       "      <td>0.33</td>\n",
       "      <td>68.402973</td>\n",
       "    </tr>\n",
       "    <tr>\n",
       "      <th>1</th>\n",
       "      <td>100% Natural Bran</td>\n",
       "      <td>Q</td>\n",
       "      <td>C</td>\n",
       "      <td>120</td>\n",
       "      <td>3</td>\n",
       "      <td>5</td>\n",
       "      <td>15</td>\n",
       "      <td>2.0</td>\n",
       "      <td>8.0</td>\n",
       "      <td>8</td>\n",
       "      <td>135</td>\n",
       "      <td>0</td>\n",
       "      <td>3</td>\n",
       "      <td>1.0</td>\n",
       "      <td>1.00</td>\n",
       "      <td>33.983679</td>\n",
       "    </tr>\n",
       "    <tr>\n",
       "      <th>2</th>\n",
       "      <td>All-Bran</td>\n",
       "      <td>K</td>\n",
       "      <td>C</td>\n",
       "      <td>70</td>\n",
       "      <td>4</td>\n",
       "      <td>1</td>\n",
       "      <td>260</td>\n",
       "      <td>9.0</td>\n",
       "      <td>7.0</td>\n",
       "      <td>5</td>\n",
       "      <td>320</td>\n",
       "      <td>25</td>\n",
       "      <td>3</td>\n",
       "      <td>1.0</td>\n",
       "      <td>0.33</td>\n",
       "      <td>59.425505</td>\n",
       "    </tr>\n",
       "    <tr>\n",
       "      <th>3</th>\n",
       "      <td>All-Bran with Extra Fiber</td>\n",
       "      <td>K</td>\n",
       "      <td>C</td>\n",
       "      <td>50</td>\n",
       "      <td>4</td>\n",
       "      <td>0</td>\n",
       "      <td>140</td>\n",
       "      <td>14.0</td>\n",
       "      <td>8.0</td>\n",
       "      <td>0</td>\n",
       "      <td>330</td>\n",
       "      <td>25</td>\n",
       "      <td>3</td>\n",
       "      <td>1.0</td>\n",
       "      <td>0.50</td>\n",
       "      <td>93.704912</td>\n",
       "    </tr>\n",
       "    <tr>\n",
       "      <th>4</th>\n",
       "      <td>Almond Delight</td>\n",
       "      <td>R</td>\n",
       "      <td>C</td>\n",
       "      <td>110</td>\n",
       "      <td>2</td>\n",
       "      <td>2</td>\n",
       "      <td>200</td>\n",
       "      <td>1.0</td>\n",
       "      <td>14.0</td>\n",
       "      <td>8</td>\n",
       "      <td>-1</td>\n",
       "      <td>25</td>\n",
       "      <td>3</td>\n",
       "      <td>1.0</td>\n",
       "      <td>0.75</td>\n",
       "      <td>34.384843</td>\n",
       "    </tr>\n",
       "    <tr>\n",
       "      <th>...</th>\n",
       "      <td>...</td>\n",
       "      <td>...</td>\n",
       "      <td>...</td>\n",
       "      <td>...</td>\n",
       "      <td>...</td>\n",
       "      <td>...</td>\n",
       "      <td>...</td>\n",
       "      <td>...</td>\n",
       "      <td>...</td>\n",
       "      <td>...</td>\n",
       "      <td>...</td>\n",
       "      <td>...</td>\n",
       "      <td>...</td>\n",
       "      <td>...</td>\n",
       "      <td>...</td>\n",
       "      <td>...</td>\n",
       "    </tr>\n",
       "    <tr>\n",
       "      <th>72</th>\n",
       "      <td>Triples</td>\n",
       "      <td>G</td>\n",
       "      <td>C</td>\n",
       "      <td>110</td>\n",
       "      <td>2</td>\n",
       "      <td>1</td>\n",
       "      <td>250</td>\n",
       "      <td>0.0</td>\n",
       "      <td>21.0</td>\n",
       "      <td>3</td>\n",
       "      <td>60</td>\n",
       "      <td>25</td>\n",
       "      <td>3</td>\n",
       "      <td>1.0</td>\n",
       "      <td>0.75</td>\n",
       "      <td>39.106174</td>\n",
       "    </tr>\n",
       "    <tr>\n",
       "      <th>73</th>\n",
       "      <td>Trix</td>\n",
       "      <td>G</td>\n",
       "      <td>C</td>\n",
       "      <td>110</td>\n",
       "      <td>1</td>\n",
       "      <td>1</td>\n",
       "      <td>140</td>\n",
       "      <td>0.0</td>\n",
       "      <td>13.0</td>\n",
       "      <td>12</td>\n",
       "      <td>25</td>\n",
       "      <td>25</td>\n",
       "      <td>2</td>\n",
       "      <td>1.0</td>\n",
       "      <td>1.00</td>\n",
       "      <td>27.753301</td>\n",
       "    </tr>\n",
       "    <tr>\n",
       "      <th>74</th>\n",
       "      <td>Wheat Chex</td>\n",
       "      <td>R</td>\n",
       "      <td>C</td>\n",
       "      <td>100</td>\n",
       "      <td>3</td>\n",
       "      <td>1</td>\n",
       "      <td>230</td>\n",
       "      <td>3.0</td>\n",
       "      <td>17.0</td>\n",
       "      <td>3</td>\n",
       "      <td>115</td>\n",
       "      <td>25</td>\n",
       "      <td>1</td>\n",
       "      <td>1.0</td>\n",
       "      <td>0.67</td>\n",
       "      <td>49.787445</td>\n",
       "    </tr>\n",
       "    <tr>\n",
       "      <th>75</th>\n",
       "      <td>Wheaties</td>\n",
       "      <td>G</td>\n",
       "      <td>C</td>\n",
       "      <td>100</td>\n",
       "      <td>3</td>\n",
       "      <td>1</td>\n",
       "      <td>200</td>\n",
       "      <td>3.0</td>\n",
       "      <td>17.0</td>\n",
       "      <td>3</td>\n",
       "      <td>110</td>\n",
       "      <td>25</td>\n",
       "      <td>1</td>\n",
       "      <td>1.0</td>\n",
       "      <td>1.00</td>\n",
       "      <td>51.592193</td>\n",
       "    </tr>\n",
       "    <tr>\n",
       "      <th>76</th>\n",
       "      <td>Wheaties Honey Gold</td>\n",
       "      <td>G</td>\n",
       "      <td>C</td>\n",
       "      <td>110</td>\n",
       "      <td>2</td>\n",
       "      <td>1</td>\n",
       "      <td>200</td>\n",
       "      <td>1.0</td>\n",
       "      <td>16.0</td>\n",
       "      <td>8</td>\n",
       "      <td>60</td>\n",
       "      <td>25</td>\n",
       "      <td>1</td>\n",
       "      <td>1.0</td>\n",
       "      <td>0.75</td>\n",
       "      <td>36.187559</td>\n",
       "    </tr>\n",
       "  </tbody>\n",
       "</table>\n",
       "<p>77 rows × 16 columns</p>\n",
       "</div>"
      ],
      "text/plain": [
       "                         name mfr type  calories  protein  fat  sodium  fiber  \\\n",
       "0                   100% Bran   N    C        70        4    1     130   10.0   \n",
       "1           100% Natural Bran   Q    C       120        3    5      15    2.0   \n",
       "2                    All-Bran   K    C        70        4    1     260    9.0   \n",
       "3   All-Bran with Extra Fiber   K    C        50        4    0     140   14.0   \n",
       "4              Almond Delight   R    C       110        2    2     200    1.0   \n",
       "..                        ...  ..  ...       ...      ...  ...     ...    ...   \n",
       "72                    Triples   G    C       110        2    1     250    0.0   \n",
       "73                       Trix   G    C       110        1    1     140    0.0   \n",
       "74                 Wheat Chex   R    C       100        3    1     230    3.0   \n",
       "75                   Wheaties   G    C       100        3    1     200    3.0   \n",
       "76        Wheaties Honey Gold   G    C       110        2    1     200    1.0   \n",
       "\n",
       "    carbo  sugars  potass  vitamins  shelf  weight  cups     rating  \n",
       "0     5.0       6     280        25      3     1.0  0.33  68.402973  \n",
       "1     8.0       8     135         0      3     1.0  1.00  33.983679  \n",
       "2     7.0       5     320        25      3     1.0  0.33  59.425505  \n",
       "3     8.0       0     330        25      3     1.0  0.50  93.704912  \n",
       "4    14.0       8      -1        25      3     1.0  0.75  34.384843  \n",
       "..    ...     ...     ...       ...    ...     ...   ...        ...  \n",
       "72   21.0       3      60        25      3     1.0  0.75  39.106174  \n",
       "73   13.0      12      25        25      2     1.0  1.00  27.753301  \n",
       "74   17.0       3     115        25      1     1.0  0.67  49.787445  \n",
       "75   17.0       3     110        25      1     1.0  1.00  51.592193  \n",
       "76   16.0       8      60        25      1     1.0  0.75  36.187559  \n",
       "\n",
       "[77 rows x 16 columns]"
      ]
     },
     "execution_count": 2,
     "metadata": {},
     "output_type": "execute_result"
    }
   ],
   "source": [
    "df = pd.read_csv(\"cereal.csv\")\n",
    "df"
   ]
  },
  {
   "cell_type": "markdown",
   "id": "48abfda3",
   "metadata": {},
   "source": [
    "# EDA"
   ]
  },
  {
   "cell_type": "code",
   "execution_count": 3,
   "id": "94095e4a",
   "metadata": {},
   "outputs": [
    {
     "name": "stdout",
     "output_type": "stream",
     "text": [
      "<class 'pandas.core.frame.DataFrame'>\n",
      "RangeIndex: 77 entries, 0 to 76\n",
      "Data columns (total 16 columns):\n",
      " #   Column    Non-Null Count  Dtype  \n",
      "---  ------    --------------  -----  \n",
      " 0   name      77 non-null     object \n",
      " 1   mfr       77 non-null     object \n",
      " 2   type      77 non-null     object \n",
      " 3   calories  77 non-null     int64  \n",
      " 4   protein   77 non-null     int64  \n",
      " 5   fat       77 non-null     int64  \n",
      " 6   sodium    77 non-null     int64  \n",
      " 7   fiber     77 non-null     float64\n",
      " 8   carbo     77 non-null     float64\n",
      " 9   sugars    77 non-null     int64  \n",
      " 10  potass    77 non-null     int64  \n",
      " 11  vitamins  77 non-null     int64  \n",
      " 12  shelf     77 non-null     int64  \n",
      " 13  weight    77 non-null     float64\n",
      " 14  cups      77 non-null     float64\n",
      " 15  rating    77 non-null     float64\n",
      "dtypes: float64(5), int64(8), object(3)\n",
      "memory usage: 9.8+ KB\n"
     ]
    }
   ],
   "source": [
    "df.info()"
   ]
  },
  {
   "cell_type": "code",
   "execution_count": 4,
   "id": "91988149",
   "metadata": {},
   "outputs": [
    {
     "data": {
      "text/plain": [
       "name        0\n",
       "mfr         0\n",
       "type        0\n",
       "calories    0\n",
       "protein     0\n",
       "fat         0\n",
       "sodium      0\n",
       "fiber       0\n",
       "carbo       0\n",
       "sugars      0\n",
       "potass      0\n",
       "vitamins    0\n",
       "shelf       0\n",
       "weight      0\n",
       "cups        0\n",
       "rating      0\n",
       "dtype: int64"
      ]
     },
     "execution_count": 4,
     "metadata": {},
     "output_type": "execute_result"
    }
   ],
   "source": [
    "df.isna().sum()"
   ]
  },
  {
   "cell_type": "markdown",
   "id": "bfd21a07",
   "metadata": {},
   "source": [
    "## name"
   ]
  },
  {
   "cell_type": "code",
   "execution_count": 5,
   "id": "5cfd7b68",
   "metadata": {},
   "outputs": [
    {
     "data": {
      "text/plain": [
       "0                     100% Bran\n",
       "1             100% Natural Bran\n",
       "2                      All-Bran\n",
       "3     All-Bran with Extra Fiber\n",
       "4                Almond Delight\n",
       "                ...            \n",
       "72                      Triples\n",
       "73                         Trix\n",
       "74                   Wheat Chex\n",
       "75                     Wheaties\n",
       "76          Wheaties Honey Gold\n",
       "Name: name, Length: 77, dtype: object"
      ]
     },
     "execution_count": 5,
     "metadata": {},
     "output_type": "execute_result"
    }
   ],
   "source": [
    "df['name']"
   ]
  },
  {
   "cell_type": "code",
   "execution_count": 6,
   "id": "211f1467",
   "metadata": {},
   "outputs": [
    {
     "data": {
      "text/plain": [
       "100% Bran                    1\n",
       "Nutri-Grain Almond-Raisin    1\n",
       "Quaker Oat Squares           1\n",
       "Puffed Wheat                 1\n",
       "Puffed Rice                  1\n",
       "                            ..\n",
       "Frosted Flakes               1\n",
       "Froot Loops                  1\n",
       "Double Chex                  1\n",
       "Crispy Wheat & Raisins       1\n",
       "Wheaties Honey Gold          1\n",
       "Name: name, Length: 77, dtype: int64"
      ]
     },
     "execution_count": 6,
     "metadata": {},
     "output_type": "execute_result"
    }
   ],
   "source": [
    "df['name'].value_counts()"
   ]
  },
  {
   "cell_type": "code",
   "execution_count": 7,
   "id": "3c3c99fa",
   "metadata": {},
   "outputs": [
    {
     "data": {
      "text/html": [
       "<div>\n",
       "<style scoped>\n",
       "    .dataframe tbody tr th:only-of-type {\n",
       "        vertical-align: middle;\n",
       "    }\n",
       "\n",
       "    .dataframe tbody tr th {\n",
       "        vertical-align: top;\n",
       "    }\n",
       "\n",
       "    .dataframe thead th {\n",
       "        text-align: right;\n",
       "    }\n",
       "</style>\n",
       "<table border=\"1\" class=\"dataframe\">\n",
       "  <thead>\n",
       "    <tr style=\"text-align: right;\">\n",
       "      <th></th>\n",
       "      <th>mfr</th>\n",
       "      <th>type</th>\n",
       "      <th>calories</th>\n",
       "      <th>protein</th>\n",
       "      <th>fat</th>\n",
       "      <th>sodium</th>\n",
       "      <th>fiber</th>\n",
       "      <th>carbo</th>\n",
       "      <th>sugars</th>\n",
       "      <th>potass</th>\n",
       "      <th>...</th>\n",
       "      <th>name_Special K</th>\n",
       "      <th>name_Strawberry Fruit Wheats</th>\n",
       "      <th>name_Total Corn Flakes</th>\n",
       "      <th>name_Total Raisin Bran</th>\n",
       "      <th>name_Total Whole Grain</th>\n",
       "      <th>name_Triples</th>\n",
       "      <th>name_Trix</th>\n",
       "      <th>name_Wheat Chex</th>\n",
       "      <th>name_Wheaties</th>\n",
       "      <th>name_Wheaties Honey Gold</th>\n",
       "    </tr>\n",
       "  </thead>\n",
       "  <tbody>\n",
       "    <tr>\n",
       "      <th>0</th>\n",
       "      <td>N</td>\n",
       "      <td>C</td>\n",
       "      <td>70</td>\n",
       "      <td>4</td>\n",
       "      <td>1</td>\n",
       "      <td>130</td>\n",
       "      <td>10.0</td>\n",
       "      <td>5.0</td>\n",
       "      <td>6</td>\n",
       "      <td>280</td>\n",
       "      <td>...</td>\n",
       "      <td>0</td>\n",
       "      <td>0</td>\n",
       "      <td>0</td>\n",
       "      <td>0</td>\n",
       "      <td>0</td>\n",
       "      <td>0</td>\n",
       "      <td>0</td>\n",
       "      <td>0</td>\n",
       "      <td>0</td>\n",
       "      <td>0</td>\n",
       "    </tr>\n",
       "    <tr>\n",
       "      <th>1</th>\n",
       "      <td>Q</td>\n",
       "      <td>C</td>\n",
       "      <td>120</td>\n",
       "      <td>3</td>\n",
       "      <td>5</td>\n",
       "      <td>15</td>\n",
       "      <td>2.0</td>\n",
       "      <td>8.0</td>\n",
       "      <td>8</td>\n",
       "      <td>135</td>\n",
       "      <td>...</td>\n",
       "      <td>0</td>\n",
       "      <td>0</td>\n",
       "      <td>0</td>\n",
       "      <td>0</td>\n",
       "      <td>0</td>\n",
       "      <td>0</td>\n",
       "      <td>0</td>\n",
       "      <td>0</td>\n",
       "      <td>0</td>\n",
       "      <td>0</td>\n",
       "    </tr>\n",
       "    <tr>\n",
       "      <th>2</th>\n",
       "      <td>K</td>\n",
       "      <td>C</td>\n",
       "      <td>70</td>\n",
       "      <td>4</td>\n",
       "      <td>1</td>\n",
       "      <td>260</td>\n",
       "      <td>9.0</td>\n",
       "      <td>7.0</td>\n",
       "      <td>5</td>\n",
       "      <td>320</td>\n",
       "      <td>...</td>\n",
       "      <td>0</td>\n",
       "      <td>0</td>\n",
       "      <td>0</td>\n",
       "      <td>0</td>\n",
       "      <td>0</td>\n",
       "      <td>0</td>\n",
       "      <td>0</td>\n",
       "      <td>0</td>\n",
       "      <td>0</td>\n",
       "      <td>0</td>\n",
       "    </tr>\n",
       "    <tr>\n",
       "      <th>3</th>\n",
       "      <td>K</td>\n",
       "      <td>C</td>\n",
       "      <td>50</td>\n",
       "      <td>4</td>\n",
       "      <td>0</td>\n",
       "      <td>140</td>\n",
       "      <td>14.0</td>\n",
       "      <td>8.0</td>\n",
       "      <td>0</td>\n",
       "      <td>330</td>\n",
       "      <td>...</td>\n",
       "      <td>0</td>\n",
       "      <td>0</td>\n",
       "      <td>0</td>\n",
       "      <td>0</td>\n",
       "      <td>0</td>\n",
       "      <td>0</td>\n",
       "      <td>0</td>\n",
       "      <td>0</td>\n",
       "      <td>0</td>\n",
       "      <td>0</td>\n",
       "    </tr>\n",
       "    <tr>\n",
       "      <th>4</th>\n",
       "      <td>R</td>\n",
       "      <td>C</td>\n",
       "      <td>110</td>\n",
       "      <td>2</td>\n",
       "      <td>2</td>\n",
       "      <td>200</td>\n",
       "      <td>1.0</td>\n",
       "      <td>14.0</td>\n",
       "      <td>8</td>\n",
       "      <td>-1</td>\n",
       "      <td>...</td>\n",
       "      <td>0</td>\n",
       "      <td>0</td>\n",
       "      <td>0</td>\n",
       "      <td>0</td>\n",
       "      <td>0</td>\n",
       "      <td>0</td>\n",
       "      <td>0</td>\n",
       "      <td>0</td>\n",
       "      <td>0</td>\n",
       "      <td>0</td>\n",
       "    </tr>\n",
       "    <tr>\n",
       "      <th>...</th>\n",
       "      <td>...</td>\n",
       "      <td>...</td>\n",
       "      <td>...</td>\n",
       "      <td>...</td>\n",
       "      <td>...</td>\n",
       "      <td>...</td>\n",
       "      <td>...</td>\n",
       "      <td>...</td>\n",
       "      <td>...</td>\n",
       "      <td>...</td>\n",
       "      <td>...</td>\n",
       "      <td>...</td>\n",
       "      <td>...</td>\n",
       "      <td>...</td>\n",
       "      <td>...</td>\n",
       "      <td>...</td>\n",
       "      <td>...</td>\n",
       "      <td>...</td>\n",
       "      <td>...</td>\n",
       "      <td>...</td>\n",
       "      <td>...</td>\n",
       "    </tr>\n",
       "    <tr>\n",
       "      <th>72</th>\n",
       "      <td>G</td>\n",
       "      <td>C</td>\n",
       "      <td>110</td>\n",
       "      <td>2</td>\n",
       "      <td>1</td>\n",
       "      <td>250</td>\n",
       "      <td>0.0</td>\n",
       "      <td>21.0</td>\n",
       "      <td>3</td>\n",
       "      <td>60</td>\n",
       "      <td>...</td>\n",
       "      <td>0</td>\n",
       "      <td>0</td>\n",
       "      <td>0</td>\n",
       "      <td>0</td>\n",
       "      <td>0</td>\n",
       "      <td>1</td>\n",
       "      <td>0</td>\n",
       "      <td>0</td>\n",
       "      <td>0</td>\n",
       "      <td>0</td>\n",
       "    </tr>\n",
       "    <tr>\n",
       "      <th>73</th>\n",
       "      <td>G</td>\n",
       "      <td>C</td>\n",
       "      <td>110</td>\n",
       "      <td>1</td>\n",
       "      <td>1</td>\n",
       "      <td>140</td>\n",
       "      <td>0.0</td>\n",
       "      <td>13.0</td>\n",
       "      <td>12</td>\n",
       "      <td>25</td>\n",
       "      <td>...</td>\n",
       "      <td>0</td>\n",
       "      <td>0</td>\n",
       "      <td>0</td>\n",
       "      <td>0</td>\n",
       "      <td>0</td>\n",
       "      <td>0</td>\n",
       "      <td>1</td>\n",
       "      <td>0</td>\n",
       "      <td>0</td>\n",
       "      <td>0</td>\n",
       "    </tr>\n",
       "    <tr>\n",
       "      <th>74</th>\n",
       "      <td>R</td>\n",
       "      <td>C</td>\n",
       "      <td>100</td>\n",
       "      <td>3</td>\n",
       "      <td>1</td>\n",
       "      <td>230</td>\n",
       "      <td>3.0</td>\n",
       "      <td>17.0</td>\n",
       "      <td>3</td>\n",
       "      <td>115</td>\n",
       "      <td>...</td>\n",
       "      <td>0</td>\n",
       "      <td>0</td>\n",
       "      <td>0</td>\n",
       "      <td>0</td>\n",
       "      <td>0</td>\n",
       "      <td>0</td>\n",
       "      <td>0</td>\n",
       "      <td>1</td>\n",
       "      <td>0</td>\n",
       "      <td>0</td>\n",
       "    </tr>\n",
       "    <tr>\n",
       "      <th>75</th>\n",
       "      <td>G</td>\n",
       "      <td>C</td>\n",
       "      <td>100</td>\n",
       "      <td>3</td>\n",
       "      <td>1</td>\n",
       "      <td>200</td>\n",
       "      <td>3.0</td>\n",
       "      <td>17.0</td>\n",
       "      <td>3</td>\n",
       "      <td>110</td>\n",
       "      <td>...</td>\n",
       "      <td>0</td>\n",
       "      <td>0</td>\n",
       "      <td>0</td>\n",
       "      <td>0</td>\n",
       "      <td>0</td>\n",
       "      <td>0</td>\n",
       "      <td>0</td>\n",
       "      <td>0</td>\n",
       "      <td>1</td>\n",
       "      <td>0</td>\n",
       "    </tr>\n",
       "    <tr>\n",
       "      <th>76</th>\n",
       "      <td>G</td>\n",
       "      <td>C</td>\n",
       "      <td>110</td>\n",
       "      <td>2</td>\n",
       "      <td>1</td>\n",
       "      <td>200</td>\n",
       "      <td>1.0</td>\n",
       "      <td>16.0</td>\n",
       "      <td>8</td>\n",
       "      <td>60</td>\n",
       "      <td>...</td>\n",
       "      <td>0</td>\n",
       "      <td>0</td>\n",
       "      <td>0</td>\n",
       "      <td>0</td>\n",
       "      <td>0</td>\n",
       "      <td>0</td>\n",
       "      <td>0</td>\n",
       "      <td>0</td>\n",
       "      <td>0</td>\n",
       "      <td>1</td>\n",
       "    </tr>\n",
       "  </tbody>\n",
       "</table>\n",
       "<p>77 rows × 92 columns</p>\n",
       "</div>"
      ],
      "text/plain": [
       "   mfr type  calories  protein  fat  sodium  fiber  carbo  sugars  potass  \\\n",
       "0    N    C        70        4    1     130   10.0    5.0       6     280   \n",
       "1    Q    C       120        3    5      15    2.0    8.0       8     135   \n",
       "2    K    C        70        4    1     260    9.0    7.0       5     320   \n",
       "3    K    C        50        4    0     140   14.0    8.0       0     330   \n",
       "4    R    C       110        2    2     200    1.0   14.0       8      -1   \n",
       "..  ..  ...       ...      ...  ...     ...    ...    ...     ...     ...   \n",
       "72   G    C       110        2    1     250    0.0   21.0       3      60   \n",
       "73   G    C       110        1    1     140    0.0   13.0      12      25   \n",
       "74   R    C       100        3    1     230    3.0   17.0       3     115   \n",
       "75   G    C       100        3    1     200    3.0   17.0       3     110   \n",
       "76   G    C       110        2    1     200    1.0   16.0       8      60   \n",
       "\n",
       "    ...  name_Special K  name_Strawberry Fruit Wheats  name_Total Corn Flakes  \\\n",
       "0   ...               0                             0                       0   \n",
       "1   ...               0                             0                       0   \n",
       "2   ...               0                             0                       0   \n",
       "3   ...               0                             0                       0   \n",
       "4   ...               0                             0                       0   \n",
       "..  ...             ...                           ...                     ...   \n",
       "72  ...               0                             0                       0   \n",
       "73  ...               0                             0                       0   \n",
       "74  ...               0                             0                       0   \n",
       "75  ...               0                             0                       0   \n",
       "76  ...               0                             0                       0   \n",
       "\n",
       "    name_Total Raisin Bran  name_Total Whole Grain  name_Triples  name_Trix  \\\n",
       "0                        0                       0             0          0   \n",
       "1                        0                       0             0          0   \n",
       "2                        0                       0             0          0   \n",
       "3                        0                       0             0          0   \n",
       "4                        0                       0             0          0   \n",
       "..                     ...                     ...           ...        ...   \n",
       "72                       0                       0             1          0   \n",
       "73                       0                       0             0          1   \n",
       "74                       0                       0             0          0   \n",
       "75                       0                       0             0          0   \n",
       "76                       0                       0             0          0   \n",
       "\n",
       "    name_Wheat Chex  name_Wheaties  name_Wheaties Honey Gold  \n",
       "0                 0              0                         0  \n",
       "1                 0              0                         0  \n",
       "2                 0              0                         0  \n",
       "3                 0              0                         0  \n",
       "4                 0              0                         0  \n",
       "..              ...            ...                       ...  \n",
       "72                0              0                         0  \n",
       "73                0              0                         0  \n",
       "74                1              0                         0  \n",
       "75                0              1                         0  \n",
       "76                0              0                         1  \n",
       "\n",
       "[77 rows x 92 columns]"
      ]
     },
     "execution_count": 7,
     "metadata": {},
     "output_type": "execute_result"
    }
   ],
   "source": [
    "df = pd.get_dummies(df,columns = ['name'])\n",
    "df"
   ]
  },
  {
   "cell_type": "code",
   "execution_count": 8,
   "id": "6059cccc",
   "metadata": {},
   "outputs": [
    {
     "name": "stdout",
     "output_type": "stream",
     "text": [
      "<class 'pandas.core.frame.DataFrame'>\n",
      "RangeIndex: 77 entries, 0 to 76\n",
      "Data columns (total 92 columns):\n",
      " #   Column                                       Non-Null Count  Dtype  \n",
      "---  ------                                       --------------  -----  \n",
      " 0   mfr                                          77 non-null     object \n",
      " 1   type                                         77 non-null     object \n",
      " 2   calories                                     77 non-null     int64  \n",
      " 3   protein                                      77 non-null     int64  \n",
      " 4   fat                                          77 non-null     int64  \n",
      " 5   sodium                                       77 non-null     int64  \n",
      " 6   fiber                                        77 non-null     float64\n",
      " 7   carbo                                        77 non-null     float64\n",
      " 8   sugars                                       77 non-null     int64  \n",
      " 9   potass                                       77 non-null     int64  \n",
      " 10  vitamins                                     77 non-null     int64  \n",
      " 11  shelf                                        77 non-null     int64  \n",
      " 12  weight                                       77 non-null     float64\n",
      " 13  cups                                         77 non-null     float64\n",
      " 14  rating                                       77 non-null     float64\n",
      " 15  name_100% Bran                               77 non-null     uint8  \n",
      " 16  name_100% Natural Bran                       77 non-null     uint8  \n",
      " 17  name_All-Bran                                77 non-null     uint8  \n",
      " 18  name_All-Bran with Extra Fiber               77 non-null     uint8  \n",
      " 19  name_Almond Delight                          77 non-null     uint8  \n",
      " 20  name_Apple Cinnamon Cheerios                 77 non-null     uint8  \n",
      " 21  name_Apple Jacks                             77 non-null     uint8  \n",
      " 22  name_Basic 4                                 77 non-null     uint8  \n",
      " 23  name_Bran Chex                               77 non-null     uint8  \n",
      " 24  name_Bran Flakes                             77 non-null     uint8  \n",
      " 25  name_Cap'n'Crunch                            77 non-null     uint8  \n",
      " 26  name_Cheerios                                77 non-null     uint8  \n",
      " 27  name_Cinnamon Toast Crunch                   77 non-null     uint8  \n",
      " 28  name_Clusters                                77 non-null     uint8  \n",
      " 29  name_Cocoa Puffs                             77 non-null     uint8  \n",
      " 30  name_Corn Chex                               77 non-null     uint8  \n",
      " 31  name_Corn Flakes                             77 non-null     uint8  \n",
      " 32  name_Corn Pops                               77 non-null     uint8  \n",
      " 33  name_Count Chocula                           77 non-null     uint8  \n",
      " 34  name_Cracklin' Oat Bran                      77 non-null     uint8  \n",
      " 35  name_Cream of Wheat (Quick)                  77 non-null     uint8  \n",
      " 36  name_Crispix                                 77 non-null     uint8  \n",
      " 37  name_Crispy Wheat & Raisins                  77 non-null     uint8  \n",
      " 38  name_Double Chex                             77 non-null     uint8  \n",
      " 39  name_Froot Loops                             77 non-null     uint8  \n",
      " 40  name_Frosted Flakes                          77 non-null     uint8  \n",
      " 41  name_Frosted Mini-Wheats                     77 non-null     uint8  \n",
      " 42  name_Fruit & Fibre Dates; Walnuts; and Oats  77 non-null     uint8  \n",
      " 43  name_Fruitful Bran                           77 non-null     uint8  \n",
      " 44  name_Fruity Pebbles                          77 non-null     uint8  \n",
      " 45  name_Golden Crisp                            77 non-null     uint8  \n",
      " 46  name_Golden Grahams                          77 non-null     uint8  \n",
      " 47  name_Grape Nuts Flakes                       77 non-null     uint8  \n",
      " 48  name_Grape-Nuts                              77 non-null     uint8  \n",
      " 49  name_Great Grains Pecan                      77 non-null     uint8  \n",
      " 50  name_Honey Graham Ohs                        77 non-null     uint8  \n",
      " 51  name_Honey Nut Cheerios                      77 non-null     uint8  \n",
      " 52  name_Honey-comb                              77 non-null     uint8  \n",
      " 53  name_Just Right Crunchy  Nuggets             77 non-null     uint8  \n",
      " 54  name_Just Right Fruit & Nut                  77 non-null     uint8  \n",
      " 55  name_Kix                                     77 non-null     uint8  \n",
      " 56  name_Life                                    77 non-null     uint8  \n",
      " 57  name_Lucky Charms                            77 non-null     uint8  \n",
      " 58  name_Maypo                                   77 non-null     uint8  \n",
      " 59  name_Muesli Raisins; Dates; & Almonds        77 non-null     uint8  \n",
      " 60  name_Muesli Raisins; Peaches; & Pecans       77 non-null     uint8  \n",
      " 61  name_Mueslix Crispy Blend                    77 non-null     uint8  \n",
      " 62  name_Multi-Grain Cheerios                    77 non-null     uint8  \n",
      " 63  name_Nut&Honey Crunch                        77 non-null     uint8  \n",
      " 64  name_Nutri-Grain Almond-Raisin               77 non-null     uint8  \n",
      " 65  name_Nutri-grain Wheat                       77 non-null     uint8  \n",
      " 66  name_Oatmeal Raisin Crisp                    77 non-null     uint8  \n",
      " 67  name_Post Nat. Raisin Bran                   77 non-null     uint8  \n",
      " 68  name_Product 19                              77 non-null     uint8  \n",
      " 69  name_Puffed Rice                             77 non-null     uint8  \n",
      " 70  name_Puffed Wheat                            77 non-null     uint8  \n",
      " 71  name_Quaker Oat Squares                      77 non-null     uint8  \n",
      " 72  name_Quaker Oatmeal                          77 non-null     uint8  \n",
      " 73  name_Raisin Bran                             77 non-null     uint8  \n",
      " 74  name_Raisin Nut Bran                         77 non-null     uint8  \n",
      " 75  name_Raisin Squares                          77 non-null     uint8  \n",
      " 76  name_Rice Chex                               77 non-null     uint8  \n",
      " 77  name_Rice Krispies                           77 non-null     uint8  \n",
      " 78  name_Shredded Wheat                          77 non-null     uint8  \n",
      " 79  name_Shredded Wheat 'n'Bran                  77 non-null     uint8  \n",
      " 80  name_Shredded Wheat spoon size               77 non-null     uint8  \n",
      " 81  name_Smacks                                  77 non-null     uint8  \n",
      " 82  name_Special K                               77 non-null     uint8  \n",
      " 83  name_Strawberry Fruit Wheats                 77 non-null     uint8  \n",
      " 84  name_Total Corn Flakes                       77 non-null     uint8  \n",
      " 85  name_Total Raisin Bran                       77 non-null     uint8  \n",
      " 86  name_Total Whole Grain                       77 non-null     uint8  \n",
      " 87  name_Triples                                 77 non-null     uint8  \n",
      " 88  name_Trix                                    77 non-null     uint8  \n",
      " 89  name_Wheat Chex                              77 non-null     uint8  \n",
      " 90  name_Wheaties                                77 non-null     uint8  \n",
      " 91  name_Wheaties Honey Gold                     77 non-null     uint8  \n",
      "dtypes: float64(5), int64(8), object(2), uint8(77)\n",
      "memory usage: 14.9+ KB\n"
     ]
    }
   ],
   "source": [
    "df.info()"
   ]
  },
  {
   "cell_type": "markdown",
   "id": "cf7dc952",
   "metadata": {},
   "source": [
    "## mfr"
   ]
  },
  {
   "cell_type": "code",
   "execution_count": 9,
   "id": "fe135270",
   "metadata": {},
   "outputs": [
    {
     "data": {
      "text/plain": [
       "0     N\n",
       "1     Q\n",
       "2     K\n",
       "3     K\n",
       "4     R\n",
       "     ..\n",
       "72    G\n",
       "73    G\n",
       "74    R\n",
       "75    G\n",
       "76    G\n",
       "Name: mfr, Length: 77, dtype: object"
      ]
     },
     "execution_count": 9,
     "metadata": {},
     "output_type": "execute_result"
    }
   ],
   "source": [
    "df['mfr']"
   ]
  },
  {
   "cell_type": "code",
   "execution_count": 10,
   "id": "65b15dca",
   "metadata": {},
   "outputs": [
    {
     "data": {
      "text/plain": [
       "K    23\n",
       "G    22\n",
       "P     9\n",
       "Q     8\n",
       "R     8\n",
       "N     6\n",
       "A     1\n",
       "Name: mfr, dtype: int64"
      ]
     },
     "execution_count": 10,
     "metadata": {},
     "output_type": "execute_result"
    }
   ],
   "source": [
    "df['mfr'].value_counts()"
   ]
  },
  {
   "cell_type": "code",
   "execution_count": 11,
   "id": "d578b28c",
   "metadata": {},
   "outputs": [],
   "source": [
    "label_encoder = preprocessing.LabelEncoder()\n",
    "df['mfr'] = label_encoder.fit_transform(df['mfr'])"
   ]
  },
  {
   "cell_type": "code",
   "execution_count": 12,
   "id": "8fb39a42",
   "metadata": {},
   "outputs": [
    {
     "data": {
      "text/plain": [
       "2    23\n",
       "1    22\n",
       "4     9\n",
       "5     8\n",
       "6     8\n",
       "3     6\n",
       "0     1\n",
       "Name: mfr, dtype: int64"
      ]
     },
     "execution_count": 12,
     "metadata": {},
     "output_type": "execute_result"
    }
   ],
   "source": [
    "df['mfr'].value_counts()"
   ]
  },
  {
   "cell_type": "code",
   "execution_count": 13,
   "id": "3b4cdef0",
   "metadata": {},
   "outputs": [
    {
     "data": {
      "text/plain": [
       "{'K': 2, 'G': 1, 'P': 4, 'Q': 5, 'R': 6, 'N': 3, 'A': 0}"
      ]
     },
     "execution_count": 13,
     "metadata": {},
     "output_type": "execute_result"
    }
   ],
   "source": [
    "mfr_dict = {'K': 2, 'G': 1, 'P': 4, 'Q': 5, 'R': 6, 'N': 3, 'A': 0}\n",
    "mfr_dict"
   ]
  },
  {
   "cell_type": "code",
   "execution_count": 14,
   "id": "930a405b",
   "metadata": {},
   "outputs": [
    {
     "name": "stdout",
     "output_type": "stream",
     "text": [
      "<class 'pandas.core.frame.DataFrame'>\n",
      "RangeIndex: 77 entries, 0 to 76\n",
      "Data columns (total 92 columns):\n",
      " #   Column                                       Non-Null Count  Dtype  \n",
      "---  ------                                       --------------  -----  \n",
      " 0   mfr                                          77 non-null     int32  \n",
      " 1   type                                         77 non-null     object \n",
      " 2   calories                                     77 non-null     int64  \n",
      " 3   protein                                      77 non-null     int64  \n",
      " 4   fat                                          77 non-null     int64  \n",
      " 5   sodium                                       77 non-null     int64  \n",
      " 6   fiber                                        77 non-null     float64\n",
      " 7   carbo                                        77 non-null     float64\n",
      " 8   sugars                                       77 non-null     int64  \n",
      " 9   potass                                       77 non-null     int64  \n",
      " 10  vitamins                                     77 non-null     int64  \n",
      " 11  shelf                                        77 non-null     int64  \n",
      " 12  weight                                       77 non-null     float64\n",
      " 13  cups                                         77 non-null     float64\n",
      " 14  rating                                       77 non-null     float64\n",
      " 15  name_100% Bran                               77 non-null     uint8  \n",
      " 16  name_100% Natural Bran                       77 non-null     uint8  \n",
      " 17  name_All-Bran                                77 non-null     uint8  \n",
      " 18  name_All-Bran with Extra Fiber               77 non-null     uint8  \n",
      " 19  name_Almond Delight                          77 non-null     uint8  \n",
      " 20  name_Apple Cinnamon Cheerios                 77 non-null     uint8  \n",
      " 21  name_Apple Jacks                             77 non-null     uint8  \n",
      " 22  name_Basic 4                                 77 non-null     uint8  \n",
      " 23  name_Bran Chex                               77 non-null     uint8  \n",
      " 24  name_Bran Flakes                             77 non-null     uint8  \n",
      " 25  name_Cap'n'Crunch                            77 non-null     uint8  \n",
      " 26  name_Cheerios                                77 non-null     uint8  \n",
      " 27  name_Cinnamon Toast Crunch                   77 non-null     uint8  \n",
      " 28  name_Clusters                                77 non-null     uint8  \n",
      " 29  name_Cocoa Puffs                             77 non-null     uint8  \n",
      " 30  name_Corn Chex                               77 non-null     uint8  \n",
      " 31  name_Corn Flakes                             77 non-null     uint8  \n",
      " 32  name_Corn Pops                               77 non-null     uint8  \n",
      " 33  name_Count Chocula                           77 non-null     uint8  \n",
      " 34  name_Cracklin' Oat Bran                      77 non-null     uint8  \n",
      " 35  name_Cream of Wheat (Quick)                  77 non-null     uint8  \n",
      " 36  name_Crispix                                 77 non-null     uint8  \n",
      " 37  name_Crispy Wheat & Raisins                  77 non-null     uint8  \n",
      " 38  name_Double Chex                             77 non-null     uint8  \n",
      " 39  name_Froot Loops                             77 non-null     uint8  \n",
      " 40  name_Frosted Flakes                          77 non-null     uint8  \n",
      " 41  name_Frosted Mini-Wheats                     77 non-null     uint8  \n",
      " 42  name_Fruit & Fibre Dates; Walnuts; and Oats  77 non-null     uint8  \n",
      " 43  name_Fruitful Bran                           77 non-null     uint8  \n",
      " 44  name_Fruity Pebbles                          77 non-null     uint8  \n",
      " 45  name_Golden Crisp                            77 non-null     uint8  \n",
      " 46  name_Golden Grahams                          77 non-null     uint8  \n",
      " 47  name_Grape Nuts Flakes                       77 non-null     uint8  \n",
      " 48  name_Grape-Nuts                              77 non-null     uint8  \n",
      " 49  name_Great Grains Pecan                      77 non-null     uint8  \n",
      " 50  name_Honey Graham Ohs                        77 non-null     uint8  \n",
      " 51  name_Honey Nut Cheerios                      77 non-null     uint8  \n",
      " 52  name_Honey-comb                              77 non-null     uint8  \n",
      " 53  name_Just Right Crunchy  Nuggets             77 non-null     uint8  \n",
      " 54  name_Just Right Fruit & Nut                  77 non-null     uint8  \n",
      " 55  name_Kix                                     77 non-null     uint8  \n",
      " 56  name_Life                                    77 non-null     uint8  \n",
      " 57  name_Lucky Charms                            77 non-null     uint8  \n",
      " 58  name_Maypo                                   77 non-null     uint8  \n",
      " 59  name_Muesli Raisins; Dates; & Almonds        77 non-null     uint8  \n",
      " 60  name_Muesli Raisins; Peaches; & Pecans       77 non-null     uint8  \n",
      " 61  name_Mueslix Crispy Blend                    77 non-null     uint8  \n",
      " 62  name_Multi-Grain Cheerios                    77 non-null     uint8  \n",
      " 63  name_Nut&Honey Crunch                        77 non-null     uint8  \n",
      " 64  name_Nutri-Grain Almond-Raisin               77 non-null     uint8  \n",
      " 65  name_Nutri-grain Wheat                       77 non-null     uint8  \n",
      " 66  name_Oatmeal Raisin Crisp                    77 non-null     uint8  \n",
      " 67  name_Post Nat. Raisin Bran                   77 non-null     uint8  \n",
      " 68  name_Product 19                              77 non-null     uint8  \n",
      " 69  name_Puffed Rice                             77 non-null     uint8  \n",
      " 70  name_Puffed Wheat                            77 non-null     uint8  \n",
      " 71  name_Quaker Oat Squares                      77 non-null     uint8  \n",
      " 72  name_Quaker Oatmeal                          77 non-null     uint8  \n",
      " 73  name_Raisin Bran                             77 non-null     uint8  \n",
      " 74  name_Raisin Nut Bran                         77 non-null     uint8  \n",
      " 75  name_Raisin Squares                          77 non-null     uint8  \n",
      " 76  name_Rice Chex                               77 non-null     uint8  \n",
      " 77  name_Rice Krispies                           77 non-null     uint8  \n",
      " 78  name_Shredded Wheat                          77 non-null     uint8  \n",
      " 79  name_Shredded Wheat 'n'Bran                  77 non-null     uint8  \n",
      " 80  name_Shredded Wheat spoon size               77 non-null     uint8  \n",
      " 81  name_Smacks                                  77 non-null     uint8  \n",
      " 82  name_Special K                               77 non-null     uint8  \n",
      " 83  name_Strawberry Fruit Wheats                 77 non-null     uint8  \n",
      " 84  name_Total Corn Flakes                       77 non-null     uint8  \n",
      " 85  name_Total Raisin Bran                       77 non-null     uint8  \n",
      " 86  name_Total Whole Grain                       77 non-null     uint8  \n",
      " 87  name_Triples                                 77 non-null     uint8  \n",
      " 88  name_Trix                                    77 non-null     uint8  \n",
      " 89  name_Wheat Chex                              77 non-null     uint8  \n",
      " 90  name_Wheaties                                77 non-null     uint8  \n",
      " 91  name_Wheaties Honey Gold                     77 non-null     uint8  \n",
      "dtypes: float64(5), int32(1), int64(8), object(1), uint8(77)\n",
      "memory usage: 14.6+ KB\n"
     ]
    }
   ],
   "source": [
    "df.info()"
   ]
  },
  {
   "cell_type": "markdown",
   "id": "f5a63869",
   "metadata": {},
   "source": [
    "## type"
   ]
  },
  {
   "cell_type": "code",
   "execution_count": 15,
   "id": "4fa797af",
   "metadata": {},
   "outputs": [
    {
     "data": {
      "text/plain": [
       "0     C\n",
       "1     C\n",
       "2     C\n",
       "3     C\n",
       "4     C\n",
       "     ..\n",
       "72    C\n",
       "73    C\n",
       "74    C\n",
       "75    C\n",
       "76    C\n",
       "Name: type, Length: 77, dtype: object"
      ]
     },
     "execution_count": 15,
     "metadata": {},
     "output_type": "execute_result"
    }
   ],
   "source": [
    "df['type']"
   ]
  },
  {
   "cell_type": "code",
   "execution_count": 16,
   "id": "4868d779",
   "metadata": {},
   "outputs": [
    {
     "data": {
      "text/plain": [
       "C    74\n",
       "H     3\n",
       "Name: type, dtype: int64"
      ]
     },
     "execution_count": 16,
     "metadata": {},
     "output_type": "execute_result"
    }
   ],
   "source": [
    "df['type'].value_counts()"
   ]
  },
  {
   "cell_type": "code",
   "execution_count": 17,
   "id": "8af55fc0",
   "metadata": {},
   "outputs": [],
   "source": [
    "df['type'] = label_encoder.fit_transform(df['type'])"
   ]
  },
  {
   "cell_type": "code",
   "execution_count": 18,
   "id": "b79b1a2d",
   "metadata": {},
   "outputs": [
    {
     "data": {
      "text/plain": [
       "0    74\n",
       "1     3\n",
       "Name: type, dtype: int64"
      ]
     },
     "execution_count": 18,
     "metadata": {},
     "output_type": "execute_result"
    }
   ],
   "source": [
    "df['type'].value_counts()"
   ]
  },
  {
   "cell_type": "code",
   "execution_count": 19,
   "id": "535efeb9",
   "metadata": {},
   "outputs": [
    {
     "data": {
      "text/plain": [
       "{'C': 0, 'H': 1}"
      ]
     },
     "execution_count": 19,
     "metadata": {},
     "output_type": "execute_result"
    }
   ],
   "source": [
    "type_dict = {'C': 0, 'H': 1}\n",
    "type_dict"
   ]
  },
  {
   "cell_type": "code",
   "execution_count": 20,
   "id": "64a0ca4d",
   "metadata": {},
   "outputs": [
    {
     "name": "stdout",
     "output_type": "stream",
     "text": [
      "<class 'pandas.core.frame.DataFrame'>\n",
      "RangeIndex: 77 entries, 0 to 76\n",
      "Data columns (total 92 columns):\n",
      " #   Column                                       Non-Null Count  Dtype  \n",
      "---  ------                                       --------------  -----  \n",
      " 0   mfr                                          77 non-null     int32  \n",
      " 1   type                                         77 non-null     int32  \n",
      " 2   calories                                     77 non-null     int64  \n",
      " 3   protein                                      77 non-null     int64  \n",
      " 4   fat                                          77 non-null     int64  \n",
      " 5   sodium                                       77 non-null     int64  \n",
      " 6   fiber                                        77 non-null     float64\n",
      " 7   carbo                                        77 non-null     float64\n",
      " 8   sugars                                       77 non-null     int64  \n",
      " 9   potass                                       77 non-null     int64  \n",
      " 10  vitamins                                     77 non-null     int64  \n",
      " 11  shelf                                        77 non-null     int64  \n",
      " 12  weight                                       77 non-null     float64\n",
      " 13  cups                                         77 non-null     float64\n",
      " 14  rating                                       77 non-null     float64\n",
      " 15  name_100% Bran                               77 non-null     uint8  \n",
      " 16  name_100% Natural Bran                       77 non-null     uint8  \n",
      " 17  name_All-Bran                                77 non-null     uint8  \n",
      " 18  name_All-Bran with Extra Fiber               77 non-null     uint8  \n",
      " 19  name_Almond Delight                          77 non-null     uint8  \n",
      " 20  name_Apple Cinnamon Cheerios                 77 non-null     uint8  \n",
      " 21  name_Apple Jacks                             77 non-null     uint8  \n",
      " 22  name_Basic 4                                 77 non-null     uint8  \n",
      " 23  name_Bran Chex                               77 non-null     uint8  \n",
      " 24  name_Bran Flakes                             77 non-null     uint8  \n",
      " 25  name_Cap'n'Crunch                            77 non-null     uint8  \n",
      " 26  name_Cheerios                                77 non-null     uint8  \n",
      " 27  name_Cinnamon Toast Crunch                   77 non-null     uint8  \n",
      " 28  name_Clusters                                77 non-null     uint8  \n",
      " 29  name_Cocoa Puffs                             77 non-null     uint8  \n",
      " 30  name_Corn Chex                               77 non-null     uint8  \n",
      " 31  name_Corn Flakes                             77 non-null     uint8  \n",
      " 32  name_Corn Pops                               77 non-null     uint8  \n",
      " 33  name_Count Chocula                           77 non-null     uint8  \n",
      " 34  name_Cracklin' Oat Bran                      77 non-null     uint8  \n",
      " 35  name_Cream of Wheat (Quick)                  77 non-null     uint8  \n",
      " 36  name_Crispix                                 77 non-null     uint8  \n",
      " 37  name_Crispy Wheat & Raisins                  77 non-null     uint8  \n",
      " 38  name_Double Chex                             77 non-null     uint8  \n",
      " 39  name_Froot Loops                             77 non-null     uint8  \n",
      " 40  name_Frosted Flakes                          77 non-null     uint8  \n",
      " 41  name_Frosted Mini-Wheats                     77 non-null     uint8  \n",
      " 42  name_Fruit & Fibre Dates; Walnuts; and Oats  77 non-null     uint8  \n",
      " 43  name_Fruitful Bran                           77 non-null     uint8  \n",
      " 44  name_Fruity Pebbles                          77 non-null     uint8  \n",
      " 45  name_Golden Crisp                            77 non-null     uint8  \n",
      " 46  name_Golden Grahams                          77 non-null     uint8  \n",
      " 47  name_Grape Nuts Flakes                       77 non-null     uint8  \n",
      " 48  name_Grape-Nuts                              77 non-null     uint8  \n",
      " 49  name_Great Grains Pecan                      77 non-null     uint8  \n",
      " 50  name_Honey Graham Ohs                        77 non-null     uint8  \n",
      " 51  name_Honey Nut Cheerios                      77 non-null     uint8  \n",
      " 52  name_Honey-comb                              77 non-null     uint8  \n",
      " 53  name_Just Right Crunchy  Nuggets             77 non-null     uint8  \n",
      " 54  name_Just Right Fruit & Nut                  77 non-null     uint8  \n",
      " 55  name_Kix                                     77 non-null     uint8  \n",
      " 56  name_Life                                    77 non-null     uint8  \n",
      " 57  name_Lucky Charms                            77 non-null     uint8  \n",
      " 58  name_Maypo                                   77 non-null     uint8  \n",
      " 59  name_Muesli Raisins; Dates; & Almonds        77 non-null     uint8  \n",
      " 60  name_Muesli Raisins; Peaches; & Pecans       77 non-null     uint8  \n",
      " 61  name_Mueslix Crispy Blend                    77 non-null     uint8  \n",
      " 62  name_Multi-Grain Cheerios                    77 non-null     uint8  \n",
      " 63  name_Nut&Honey Crunch                        77 non-null     uint8  \n",
      " 64  name_Nutri-Grain Almond-Raisin               77 non-null     uint8  \n",
      " 65  name_Nutri-grain Wheat                       77 non-null     uint8  \n",
      " 66  name_Oatmeal Raisin Crisp                    77 non-null     uint8  \n",
      " 67  name_Post Nat. Raisin Bran                   77 non-null     uint8  \n",
      " 68  name_Product 19                              77 non-null     uint8  \n",
      " 69  name_Puffed Rice                             77 non-null     uint8  \n",
      " 70  name_Puffed Wheat                            77 non-null     uint8  \n",
      " 71  name_Quaker Oat Squares                      77 non-null     uint8  \n",
      " 72  name_Quaker Oatmeal                          77 non-null     uint8  \n",
      " 73  name_Raisin Bran                             77 non-null     uint8  \n",
      " 74  name_Raisin Nut Bran                         77 non-null     uint8  \n",
      " 75  name_Raisin Squares                          77 non-null     uint8  \n",
      " 76  name_Rice Chex                               77 non-null     uint8  \n",
      " 77  name_Rice Krispies                           77 non-null     uint8  \n",
      " 78  name_Shredded Wheat                          77 non-null     uint8  \n",
      " 79  name_Shredded Wheat 'n'Bran                  77 non-null     uint8  \n",
      " 80  name_Shredded Wheat spoon size               77 non-null     uint8  \n",
      " 81  name_Smacks                                  77 non-null     uint8  \n",
      " 82  name_Special K                               77 non-null     uint8  \n",
      " 83  name_Strawberry Fruit Wheats                 77 non-null     uint8  \n",
      " 84  name_Total Corn Flakes                       77 non-null     uint8  \n",
      " 85  name_Total Raisin Bran                       77 non-null     uint8  \n",
      " 86  name_Total Whole Grain                       77 non-null     uint8  \n",
      " 87  name_Triples                                 77 non-null     uint8  \n",
      " 88  name_Trix                                    77 non-null     uint8  \n",
      " 89  name_Wheat Chex                              77 non-null     uint8  \n",
      " 90  name_Wheaties                                77 non-null     uint8  \n",
      " 91  name_Wheaties Honey Gold                     77 non-null     uint8  \n",
      "dtypes: float64(5), int32(2), int64(8), uint8(77)\n",
      "memory usage: 14.3 KB\n"
     ]
    }
   ],
   "source": [
    "df.info()"
   ]
  },
  {
   "cell_type": "markdown",
   "id": "6a2d9897",
   "metadata": {},
   "source": [
    "# Feature engineering"
   ]
  },
  {
   "cell_type": "code",
   "execution_count": 21,
   "id": "2a32daea",
   "metadata": {},
   "outputs": [
    {
     "data": {
      "text/plain": [
       "<AxesSubplot:>"
      ]
     },
     "execution_count": 21,
     "metadata": {},
     "output_type": "execute_result"
    },
    {
     "data": {
      "image/png": "[encoded data removed]",
      "text/plain": [
       "<Figure size 432x288 with 1 Axes>"
      ]
     },
     "metadata": {
      "needs_background": "light"
     },
     "output_type": "display_data"
    }
   ],
   "source": [
    "df[['mfr']].boxplot()"
   ]
  },
  {
   "cell_type": "code",
   "execution_count": 22,
   "id": "985caa6a",
   "metadata": {},
   "outputs": [
    {
     "data": {
      "text/plain": [
       "<AxesSubplot:>"
      ]
     },
     "execution_count": 22,
     "metadata": {},
     "output_type": "execute_result"
    },
    {
     "data": {
      "image/png": "[encoded data removed]",
      "text/plain": [
       "<Figure size 640x480 with 1 Axes>"
      ]
     },
     "metadata": {},
     "output_type": "display_data"
    }
   ],
   "source": [
    "df[['type']].boxplot()"
   ]
  },
  {
   "cell_type": "code",
   "execution_count": 23,
   "id": "d4b844de",
   "metadata": {},
   "outputs": [
    {
     "data": {
      "text/plain": [
       "<AxesSubplot:>"
      ]
     },
     "execution_count": 23,
     "metadata": {},
     "output_type": "execute_result"
    },
    {
     "data": {
      "image/png": "[encoded data removed]",
      "text/plain": [
       "<Figure size 640x480 with 1 Axes>"
      ]
     },
     "metadata": {},
     "output_type": "display_data"
    }
   ],
   "source": [
    "df[['calories']].boxplot()"
   ]
  },
  {
   "cell_type": "code",
   "execution_count": 24,
   "id": "7dbde9f6",
   "metadata": {},
   "outputs": [
    {
     "name": "stdout",
     "output_type": "stream",
     "text": [
      "q1--> 100.0\n",
      "q2--> 110.0\n",
      "q3--> 110.0\n",
      "upper_tail--> 125.0\n",
      "lower_tail--> 85.0\n",
      "mean--> 106.88311688311688\n",
      "110.0\n"
     ]
    },
    {
     "data": {
      "text/plain": [
       "<AxesSubplot:>"
      ]
     },
     "execution_count": 24,
     "metadata": {},
     "output_type": "execute_result"
    },
    {
     "data": {
      "image/png": "[encoded data removed]",
      "text/plain": [
       "<Figure size 640x480 with 1 Axes>"
      ]
     },
     "metadata": {},
     "output_type": "display_data"
    }
   ],
   "source": [
    "q1=df['calories'].quantile(0.25)\n",
    "q2=df['calories'].quantile(0.50)\n",
    "q3=df['calories'].quantile(0.75)\n",
    "\n",
    "iqr = q3-q1\n",
    "\n",
    "upper_tail=q3+1.5*iqr\n",
    "lower_tail=q1-1.5*iqr\n",
    "\n",
    "print('q1-->',q1)\n",
    "print('q2-->',q2)\n",
    "print('q3-->',q3)\n",
    "print('upper_tail-->',upper_tail)\n",
    "print('lower_tail-->',lower_tail)\n",
    "\n",
    "print(\"mean-->\",(df['calories'].mean()))\n",
    "\n",
    "df['calories'].median()\n",
    "\n",
    "size_df=df[['calories']].loc[(df['calories'] < upper_tail) & \n",
    "                                   (df['calories'] > lower_tail)].median()[0]\n",
    "print(size_df)  \n",
    "\n",
    "df.loc[(df['calories'] > upper_tail) |\n",
    "                (df['calories'] < lower_tail), 'calories'] = size_df\n",
    "\n",
    "\n",
    "df[['calories']].boxplot()"
   ]
  },
  {
   "cell_type": "code",
   "execution_count": 25,
   "id": "5d205aa1",
   "metadata": {},
   "outputs": [
    {
     "data": {
      "text/plain": [
       "<AxesSubplot:>"
      ]
     },
     "execution_count": 25,
     "metadata": {},
     "output_type": "execute_result"
    },
    {
     "data": {
      "image/png": "[encoded data removed]",
      "text/plain": [
       "<Figure size 640x480 with 1 Axes>"
      ]
     },
     "metadata": {},
     "output_type": "display_data"
    }
   ],
   "source": [
    "df[['protein']].boxplot()"
   ]
  },
  {
   "cell_type": "code",
   "execution_count": 26,
   "id": "594eead1",
   "metadata": {},
   "outputs": [
    {
     "name": "stdout",
     "output_type": "stream",
     "text": [
      "q1--> 2.0\n",
      "q2--> 3.0\n",
      "q3--> 3.0\n",
      "upper_tail--> 4.5\n",
      "lower_tail--> 0.5\n",
      "mean--> 2.5454545454545454\n",
      "2.0\n"
     ]
    },
    {
     "data": {
      "text/plain": [
       "<AxesSubplot:>"
      ]
     },
     "execution_count": 26,
     "metadata": {},
     "output_type": "execute_result"
    },
    {
     "data": {
      "image/png": "[encoded data removed]",
      "text/plain": [
       "<Figure size 640x480 with 1 Axes>"
      ]
     },
     "metadata": {},
     "output_type": "display_data"
    }
   ],
   "source": [
    "q1=df['protein'].quantile(0.25)\n",
    "q2=df['protein'].quantile(0.50)\n",
    "q3=df['protein'].quantile(0.75)\n",
    "\n",
    "iqr = q3-q1\n",
    "\n",
    "upper_tail=q3+1.5*iqr\n",
    "lower_tail=q1-1.5*iqr\n",
    "\n",
    "print('q1-->',q1)\n",
    "print('q2-->',q2)\n",
    "print('q3-->',q3)\n",
    "print('upper_tail-->',upper_tail)\n",
    "print('lower_tail-->',lower_tail)\n",
    "\n",
    "print(\"mean-->\",(df['protein'].mean()))\n",
    "\n",
    "df['protein'].median()\n",
    "\n",
    "size_df=df[['protein']].loc[(df['protein'] < upper_tail) & \n",
    "                                   (df['protein'] > lower_tail)].median()[0]\n",
    "print(size_df)  \n",
    "\n",
    "df.loc[(df['protein'] > upper_tail) |\n",
    "                (df['protein'] < lower_tail), 'protein'] = size_df\n",
    "\n",
    "\n",
    "df[['protein']].boxplot()"
   ]
  },
  {
   "cell_type": "code",
   "execution_count": 27,
   "id": "5082b452",
   "metadata": {},
   "outputs": [
    {
     "data": {
      "text/plain": [
       "<AxesSubplot:>"
      ]
     },
     "execution_count": 27,
     "metadata": {},
     "output_type": "execute_result"
    },
    {
     "data": {
      "image/png": "[encoded data removed]",
      "text/plain": [
       "<Figure size 640x480 with 1 Axes>"
      ]
     },
     "metadata": {},
     "output_type": "display_data"
    }
   ],
   "source": [
    "df[['fat']].boxplot()"
   ]
  },
  {
   "cell_type": "code",
   "execution_count": 28,
   "id": "d4756e32",
   "metadata": {},
   "outputs": [
    {
     "data": {
      "text/plain": [
       "<AxesSubplot:>"
      ]
     },
     "execution_count": 28,
     "metadata": {},
     "output_type": "execute_result"
    },
    {
     "data": {
      "image/png": "[encoded data removed]",
      "text/plain": [
       "<Figure size 640x480 with 1 Axes>"
      ]
     },
     "metadata": {},
     "output_type": "display_data"
    }
   ],
   "source": [
    "df[['sodium']].boxplot()"
   ]
  },
  {
   "cell_type": "code",
   "execution_count": 29,
   "id": "c930ee07",
   "metadata": {},
   "outputs": [
    {
     "data": {
      "text/plain": [
       "<AxesSubplot:>"
      ]
     },
     "execution_count": 29,
     "metadata": {},
     "output_type": "execute_result"
    },
    {
     "data": {
      "image/png": "[encoded data removed]",
      "text/plain": [
       "<Figure size 640x480 with 1 Axes>"
      ]
     },
     "metadata": {},
     "output_type": "display_data"
    }
   ],
   "source": [
    "df[['fiber']].boxplot()"
   ]
  },
  {
   "cell_type": "code",
   "execution_count": 30,
   "id": "1c0952d6",
   "metadata": {},
   "outputs": [
    {
     "name": "stdout",
     "output_type": "stream",
     "text": [
      "q1--> 1.0\n",
      "q2--> 2.0\n",
      "q3--> 3.0\n",
      "upper_tail--> 6.0\n",
      "lower_tail--> -2.0\n",
      "mean--> 2.1519480519480516\n",
      "1.5\n"
     ]
    },
    {
     "data": {
      "text/plain": [
       "<AxesSubplot:>"
      ]
     },
     "execution_count": 30,
     "metadata": {},
     "output_type": "execute_result"
    },
    {
     "data": {
      "image/png": "[encoded data removed]",
      "text/plain": [
       "<Figure size 640x480 with 1 Axes>"
      ]
     },
     "metadata": {},
     "output_type": "display_data"
    }
   ],
   "source": [
    "q1=df['fiber'].quantile(0.25)\n",
    "q2=df['fiber'].quantile(0.50)\n",
    "q3=df['fiber'].quantile(0.75)\n",
    "\n",
    "iqr = q3-q1\n",
    "\n",
    "upper_tail=q3+1.5*iqr\n",
    "lower_tail=q1-1.5*iqr\n",
    "\n",
    "print('q1-->',q1)\n",
    "print('q2-->',q2)\n",
    "print('q3-->',q3)\n",
    "print('upper_tail-->',upper_tail)\n",
    "print('lower_tail-->',lower_tail)\n",
    "\n",
    "print(\"mean-->\",(df['fiber'].mean()))\n",
    "\n",
    "df['fiber'].median()\n",
    "\n",
    "size_df=df[['fiber']].loc[(df['fiber'] < upper_tail) & \n",
    "                                   (df['fiber'] > lower_tail)].median()[0]\n",
    "print(size_df)  \n",
    "\n",
    "df.loc[(df['fiber'] > upper_tail) |\n",
    "                (df['fiber'] < lower_tail), 'fiber'] = size_df\n",
    "\n",
    "\n",
    "df[['fiber']].boxplot()"
   ]
  },
  {
   "cell_type": "code",
   "execution_count": 31,
   "id": "2ace8bc3",
   "metadata": {},
   "outputs": [
    {
     "data": {
      "text/plain": [
       "<AxesSubplot:>"
      ]
     },
     "execution_count": 31,
     "metadata": {},
     "output_type": "execute_result"
    },
    {
     "data": {
      "image/png": "[encoded data removed]",
      "text/plain": [
       "<Figure size 640x480 with 1 Axes>"
      ]
     },
     "metadata": {},
     "output_type": "display_data"
    }
   ],
   "source": [
    "df[['carbo']].boxplot()"
   ]
  },
  {
   "cell_type": "code",
   "execution_count": 32,
   "id": "87ebb727",
   "metadata": {},
   "outputs": [
    {
     "data": {
      "text/plain": [
       "<AxesSubplot:>"
      ]
     },
     "execution_count": 32,
     "metadata": {},
     "output_type": "execute_result"
    },
    {
     "data": {
      "image/png": "[encoded data removed]",
      "text/plain": [
       "<Figure size 640x480 with 1 Axes>"
      ]
     },
     "metadata": {},
     "output_type": "display_data"
    }
   ],
   "source": [
    "df[['sugars']].boxplot()"
   ]
  },
  {
   "cell_type": "code",
   "execution_count": 33,
   "id": "99d0cbb1",
   "metadata": {},
   "outputs": [
    {
     "data": {
      "text/plain": [
       "<AxesSubplot:>"
      ]
     },
     "execution_count": 33,
     "metadata": {},
     "output_type": "execute_result"
    },
    {
     "data": {
      "image/png": "[encoded data removed]",
      "text/plain": [
       "<Figure size 640x480 with 1 Axes>"
      ]
     },
     "metadata": {},
     "output_type": "display_data"
    }
   ],
   "source": [
    "df[['potass']].boxplot()"
   ]
  },
  {
   "cell_type": "code",
   "execution_count": 34,
   "id": "e454a0ac",
   "metadata": {},
   "outputs": [
    {
     "name": "stdout",
     "output_type": "stream",
     "text": [
      "q1--> 40.0\n",
      "q2--> 90.0\n",
      "q3--> 120.0\n",
      "upper_tail--> 240.0\n",
      "lower_tail--> -80.0\n",
      "mean--> 96.07792207792208\n",
      "87.5\n"
     ]
    },
    {
     "data": {
      "text/plain": [
       "<AxesSubplot:>"
      ]
     },
     "execution_count": 34,
     "metadata": {},
     "output_type": "execute_result"
    },
    {
     "data": {
      "image/png": "[encoded data removed]",
      "text/plain": [
       "<Figure size 640x480 with 1 Axes>"
      ]
     },
     "metadata": {},
     "output_type": "display_data"
    }
   ],
   "source": [
    "q1=df['potass'].quantile(0.25)\n",
    "q2=df['potass'].quantile(0.50)\n",
    "q3=df['potass'].quantile(0.75)\n",
    "\n",
    "iqr = q3-q1\n",
    "\n",
    "upper_tail=q3+1.5*iqr\n",
    "lower_tail=q1-1.5*iqr\n",
    "\n",
    "print('q1-->',q1)\n",
    "print('q2-->',q2)\n",
    "print('q3-->',q3)\n",
    "print('upper_tail-->',upper_tail)\n",
    "print('lower_tail-->',lower_tail)\n",
    "\n",
    "print(\"mean-->\",(df['potass'].mean()))\n",
    "\n",
    "df['potass'].median()\n",
    "\n",
    "size_df=df[['potass']].loc[(df['potass'] < upper_tail) & \n",
    "                                   (df['potass'] > lower_tail)].median()[0]\n",
    "print(size_df)  \n",
    "\n",
    "df.loc[(df['potass'] > upper_tail) |\n",
    "                (df['potass'] < lower_tail), 'potass'] = upper_tail\n",
    "\n",
    "\n",
    "df[['potass']].boxplot()"
   ]
  },
  {
   "cell_type": "code",
   "execution_count": 35,
   "id": "ec7f5016",
   "metadata": {},
   "outputs": [
    {
     "data": {
      "text/plain": [
       "<AxesSubplot:>"
      ]
     },
     "execution_count": 35,
     "metadata": {},
     "output_type": "execute_result"
    },
    {
     "data": {
      "image/png": "[encoded data removed]",
      "text/plain": [
       "<Figure size 640x480 with 1 Axes>"
      ]
     },
     "metadata": {},
     "output_type": "display_data"
    }
   ],
   "source": [
    "df[['vitamins']].boxplot()"
   ]
  },
  {
   "cell_type": "code",
   "execution_count": 36,
   "id": "62066eb7",
   "metadata": {},
   "outputs": [
    {
     "name": "stdout",
     "output_type": "stream",
     "text": [
      "q1--> 25.0\n",
      "q2--> 25.0\n",
      "q3--> 25.0\n",
      "upper_tail--> 25.0\n",
      "lower_tail--> 25.0\n",
      "mean--> 28.246753246753247\n",
      "nan\n"
     ]
    },
    {
     "data": {
      "text/plain": [
       "<AxesSubplot:>"
      ]
     },
     "execution_count": 36,
     "metadata": {},
     "output_type": "execute_result"
    },
    {
     "data": {
      "image/png": "[encoded data removed]",
      "text/plain": [
       "<Figure size 640x480 with 1 Axes>"
      ]
     },
     "metadata": {},
     "output_type": "display_data"
    }
   ],
   "source": [
    "q1=df['vitamins'].quantile(0.25)\n",
    "q2=df['vitamins'].quantile(0.50)\n",
    "q3=df['vitamins'].quantile(0.75)\n",
    "\n",
    "iqr = q3-q1\n",
    "\n",
    "upper_tail=q3+1.5*iqr\n",
    "lower_tail=q1-1.5*iqr\n",
    "\n",
    "print('q1-->',q1)\n",
    "print('q2-->',q2)\n",
    "print('q3-->',q3)\n",
    "print('upper_tail-->',upper_tail)\n",
    "print('lower_tail-->',lower_tail)\n",
    "\n",
    "print(\"mean-->\",(df['vitamins'].mean()))\n",
    "\n",
    "df['vitamins'].median()\n",
    "\n",
    "size_df=df[['vitamins']].loc[(df['vitamins'] < upper_tail) & \n",
    "                                   (df['vitamins'] > lower_tail)].median()[0]\n",
    "print(size_df)  \n",
    "\n",
    "df.loc[(df['vitamins'] > upper_tail) |\n",
    "                (df['vitamins'] < lower_tail), 'vitamins'] = size_df\n",
    "\n",
    "\n",
    "df[['vitamins']].boxplot()"
   ]
  },
  {
   "cell_type": "code",
   "execution_count": 37,
   "id": "c0b67d35",
   "metadata": {},
   "outputs": [
    {
     "data": {
      "text/plain": [
       "<AxesSubplot:>"
      ]
     },
     "execution_count": 37,
     "metadata": {},
     "output_type": "execute_result"
    },
    {
     "data": {
      "image/png": "[encoded data removed]",
      "text/plain": [
       "<Figure size 640x480 with 1 Axes>"
      ]
     },
     "metadata": {},
     "output_type": "display_data"
    }
   ],
   "source": [
    "df[['shelf']].boxplot()"
   ]
  },
  {
   "cell_type": "code",
   "execution_count": 38,
   "id": "7463f4c4",
   "metadata": {},
   "outputs": [
    {
     "data": {
      "text/plain": [
       "<AxesSubplot:>"
      ]
     },
     "execution_count": 38,
     "metadata": {},
     "output_type": "execute_result"
    },
    {
     "data": {
      "image/png": "[encoded data removed]",
      "text/plain": [
       "<Figure size 640x480 with 1 Axes>"
      ]
     },
     "metadata": {},
     "output_type": "display_data"
    }
   ],
   "source": [
    "df[['weight']].boxplot()"
   ]
  },
  {
   "cell_type": "code",
   "execution_count": 39,
   "id": "819b0dad",
   "metadata": {},
   "outputs": [
    {
     "name": "stdout",
     "output_type": "stream",
     "text": [
      "q1--> 1.0\n",
      "q2--> 1.0\n",
      "q3--> 1.0\n",
      "upper_tail--> 1.0\n",
      "lower_tail--> 1.0\n",
      "mean--> 1.0296103896103896\n",
      "nan\n"
     ]
    },
    {
     "data": {
      "text/plain": [
       "<AxesSubplot:>"
      ]
     },
     "execution_count": 39,
     "metadata": {},
     "output_type": "execute_result"
    },
    {
     "data": {
      "image/png": "[encoded data removed]",
      "text/plain": [
       "<Figure size 640x480 with 1 Axes>"
      ]
     },
     "metadata": {},
     "output_type": "display_data"
    }
   ],
   "source": [
    "q1=df['weight'].quantile(0.25)\n",
    "q2=df['weight'].quantile(0.50)\n",
    "q3=df['weight'].quantile(0.75)\n",
    "\n",
    "iqr = q3-q1\n",
    "\n",
    "upper_tail=q3+1.5*iqr\n",
    "lower_tail=q1-1.5*iqr\n",
    "\n",
    "print('q1-->',q1)\n",
    "print('q2-->',q2)\n",
    "print('q3-->',q3)\n",
    "print('upper_tail-->',upper_tail)\n",
    "print('lower_tail-->',lower_tail)\n",
    "\n",
    "print(\"mean-->\",(df['weight'].mean()))\n",
    "\n",
    "df['weight'].median()\n",
    "\n",
    "size_df=df[['weight']].loc[(df['weight'] < upper_tail) & \n",
    "                                   (df['weight'] > lower_tail)].median()[0]\n",
    "print(size_df)  \n",
    "\n",
    "df.loc[(df['weight'] > upper_tail) |\n",
    "                (df['weight'] < lower_tail), 'weight'] = size_df\n",
    "\n",
    "\n",
    "df[['weight']].boxplot()"
   ]
  },
  {
   "cell_type": "code",
   "execution_count": 40,
   "id": "2657a539",
   "metadata": {},
   "outputs": [
    {
     "data": {
      "text/plain": [
       "<AxesSubplot:>"
      ]
     },
     "execution_count": 40,
     "metadata": {},
     "output_type": "execute_result"
    },
    {
     "data": {
      "image/png": "[encoded data removed]",
      "text/plain": [
       "<Figure size 640x480 with 1 Axes>"
      ]
     },
     "metadata": {},
     "output_type": "display_data"
    }
   ],
   "source": [
    "df[['cups']].boxplot()"
   ]
  },
  {
   "cell_type": "code",
   "execution_count": 41,
   "id": "ddc3f2c4",
   "metadata": {},
   "outputs": [
    {
     "name": "stdout",
     "output_type": "stream",
     "text": [
      "q1--> 0.67\n",
      "q2--> 0.75\n",
      "q3--> 1.0\n",
      "upper_tail--> 1.4949999999999999\n",
      "lower_tail--> 0.1750000000000001\n",
      "mean--> 0.821038961038961\n",
      "0.75\n"
     ]
    },
    {
     "data": {
      "text/plain": [
       "<AxesSubplot:>"
      ]
     },
     "execution_count": 41,
     "metadata": {},
     "output_type": "execute_result"
    },
    {
     "data": {
      "image/png": "[encoded data removed]",
      "text/plain": [
       "<Figure size 640x480 with 1 Axes>"
      ]
     },
     "metadata": {},
     "output_type": "display_data"
    }
   ],
   "source": [
    "q1=df['cups'].quantile(0.25)\n",
    "q2=df['cups'].quantile(0.50)\n",
    "q3=df['cups'].quantile(0.75)\n",
    "\n",
    "iqr = q3-q1\n",
    "\n",
    "upper_tail=q3+1.5*iqr\n",
    "lower_tail=q1-1.5*iqr\n",
    "\n",
    "print('q1-->',q1)\n",
    "print('q2-->',q2)\n",
    "print('q3-->',q3)\n",
    "print('upper_tail-->',upper_tail)\n",
    "print('lower_tail-->',lower_tail)\n",
    "\n",
    "print(\"mean-->\",(df['cups'].mean()))\n",
    "\n",
    "df['cups'].median()\n",
    "\n",
    "size_df=df[['cups']].loc[(df['cups'] < upper_tail) & \n",
    "                                   (df['cups'] > lower_tail)].median()[0]\n",
    "print(size_df)  \n",
    "\n",
    "df.loc[(df['cups'] > upper_tail) |\n",
    "                (df['cups'] < lower_tail), 'cups'] = size_df\n",
    "\n",
    "\n",
    "df[['cups']].boxplot()"
   ]
  },
  {
   "cell_type": "markdown",
   "id": "8017b7fc",
   "metadata": {},
   "source": [
    "# Feature selection"
   ]
  },
  {
   "cell_type": "code",
   "execution_count": 42,
   "id": "b6cab65f",
   "metadata": {},
   "outputs": [
    {
     "data": {
      "text/html": [
       "<div>\n",
       "<style scoped>\n",
       "    .dataframe tbody tr th:only-of-type {\n",
       "        vertical-align: middle;\n",
       "    }\n",
       "\n",
       "    .dataframe tbody tr th {\n",
       "        vertical-align: top;\n",
       "    }\n",
       "\n",
       "    .dataframe thead th {\n",
       "        text-align: right;\n",
       "    }\n",
       "</style>\n",
       "<table border=\"1\" class=\"dataframe\">\n",
       "  <thead>\n",
       "    <tr style=\"text-align: right;\">\n",
       "      <th></th>\n",
       "      <th>mfr</th>\n",
       "      <th>type</th>\n",
       "      <th>calories</th>\n",
       "      <th>protein</th>\n",
       "      <th>fat</th>\n",
       "      <th>sodium</th>\n",
       "      <th>fiber</th>\n",
       "      <th>carbo</th>\n",
       "      <th>sugars</th>\n",
       "      <th>potass</th>\n",
       "      <th>...</th>\n",
       "      <th>name_Special K</th>\n",
       "      <th>name_Strawberry Fruit Wheats</th>\n",
       "      <th>name_Total Corn Flakes</th>\n",
       "      <th>name_Total Raisin Bran</th>\n",
       "      <th>name_Total Whole Grain</th>\n",
       "      <th>name_Triples</th>\n",
       "      <th>name_Trix</th>\n",
       "      <th>name_Wheat Chex</th>\n",
       "      <th>name_Wheaties</th>\n",
       "      <th>name_Wheaties Honey Gold</th>\n",
       "    </tr>\n",
       "  </thead>\n",
       "  <tbody>\n",
       "    <tr>\n",
       "      <th>mfr</th>\n",
       "      <td>1.000000</td>\n",
       "      <td>-0.007103</td>\n",
       "      <td>-0.035222</td>\n",
       "      <td>0.046509</td>\n",
       "      <td>0.077661</td>\n",
       "      <td>-0.175791</td>\n",
       "      <td>0.150129</td>\n",
       "      <td>-0.063045</td>\n",
       "      <td>-0.132900</td>\n",
       "      <td>0.006860</td>\n",
       "      <td>...</td>\n",
       "      <td>-0.048558</td>\n",
       "      <td>0.018209</td>\n",
       "      <td>-0.115326</td>\n",
       "      <td>-0.115326</td>\n",
       "      <td>-0.115326</td>\n",
       "      <td>-0.115326</td>\n",
       "      <td>-0.115326</td>\n",
       "      <td>0.218512</td>\n",
       "      <td>-0.115326</td>\n",
       "      <td>-0.115326</td>\n",
       "    </tr>\n",
       "    <tr>\n",
       "      <th>type</th>\n",
       "      <td>-0.007103</td>\n",
       "      <td>1.000000</td>\n",
       "      <td>-0.183056</td>\n",
       "      <td>0.135678</td>\n",
       "      <td>-0.002615</td>\n",
       "      <td>-0.321552</td>\n",
       "      <td>-0.073555</td>\n",
       "      <td>-0.123023</td>\n",
       "      <td>-0.285219</td>\n",
       "      <td>-0.080558</td>\n",
       "      <td>...</td>\n",
       "      <td>-0.023096</td>\n",
       "      <td>-0.023096</td>\n",
       "      <td>-0.023096</td>\n",
       "      <td>-0.023096</td>\n",
       "      <td>-0.023096</td>\n",
       "      <td>-0.023096</td>\n",
       "      <td>-0.023096</td>\n",
       "      <td>-0.023096</td>\n",
       "      <td>-0.023096</td>\n",
       "      <td>-0.023096</td>\n",
       "    </tr>\n",
       "    <tr>\n",
       "      <th>calories</th>\n",
       "      <td>-0.035222</td>\n",
       "      <td>-0.183056</td>\n",
       "      <td>1.000000</td>\n",
       "      <td>-0.193114</td>\n",
       "      <td>0.410336</td>\n",
       "      <td>0.277421</td>\n",
       "      <td>-0.170652</td>\n",
       "      <td>-0.179320</td>\n",
       "      <td>0.420453</td>\n",
       "      <td>0.004119</td>\n",
       "      <td>...</td>\n",
       "      <td>0.039108</td>\n",
       "      <td>-0.247683</td>\n",
       "      <td>0.039108</td>\n",
       "      <td>0.039108</td>\n",
       "      <td>-0.104288</td>\n",
       "      <td>0.039108</td>\n",
       "      <td>0.039108</td>\n",
       "      <td>-0.104288</td>\n",
       "      <td>-0.104288</td>\n",
       "      <td>0.039108</td>\n",
       "    </tr>\n",
       "    <tr>\n",
       "      <th>protein</th>\n",
       "      <td>0.046509</td>\n",
       "      <td>0.135678</td>\n",
       "      <td>-0.193114</td>\n",
       "      <td>1.000000</td>\n",
       "      <td>0.213855</td>\n",
       "      <td>-0.123989</td>\n",
       "      <td>0.558712</td>\n",
       "      <td>-0.051756</td>\n",
       "      <td>-0.194342</td>\n",
       "      <td>0.700347</td>\n",
       "      <td>...</td>\n",
       "      <td>-0.052091</td>\n",
       "      <td>-0.052091</td>\n",
       "      <td>-0.052091</td>\n",
       "      <td>0.077296</td>\n",
       "      <td>0.077296</td>\n",
       "      <td>-0.052091</td>\n",
       "      <td>-0.181478</td>\n",
       "      <td>0.077296</td>\n",
       "      <td>0.077296</td>\n",
       "      <td>-0.052091</td>\n",
       "    </tr>\n",
       "    <tr>\n",
       "      <th>fat</th>\n",
       "      <td>0.077661</td>\n",
       "      <td>-0.002615</td>\n",
       "      <td>0.410336</td>\n",
       "      <td>0.213855</td>\n",
       "      <td>1.000000</td>\n",
       "      <td>-0.005407</td>\n",
       "      <td>0.137702</td>\n",
       "      <td>-0.318043</td>\n",
       "      <td>0.270819</td>\n",
       "      <td>0.237533</td>\n",
       "      <td>...</td>\n",
       "      <td>-0.116207</td>\n",
       "      <td>-0.116207</td>\n",
       "      <td>-0.001490</td>\n",
       "      <td>-0.001490</td>\n",
       "      <td>-0.001490</td>\n",
       "      <td>-0.001490</td>\n",
       "      <td>-0.001490</td>\n",
       "      <td>-0.001490</td>\n",
       "      <td>-0.001490</td>\n",
       "      <td>-0.001490</td>\n",
       "    </tr>\n",
       "    <tr>\n",
       "      <th>...</th>\n",
       "      <td>...</td>\n",
       "      <td>...</td>\n",
       "      <td>...</td>\n",
       "      <td>...</td>\n",
       "      <td>...</td>\n",
       "      <td>...</td>\n",
       "      <td>...</td>\n",
       "      <td>...</td>\n",
       "      <td>...</td>\n",
       "      <td>...</td>\n",
       "      <td>...</td>\n",
       "      <td>...</td>\n",
       "      <td>...</td>\n",
       "      <td>...</td>\n",
       "      <td>...</td>\n",
       "      <td>...</td>\n",
       "      <td>...</td>\n",
       "      <td>...</td>\n",
       "      <td>...</td>\n",
       "      <td>...</td>\n",
       "      <td>...</td>\n",
       "    </tr>\n",
       "    <tr>\n",
       "      <th>name_Triples</th>\n",
       "      <td>-0.115326</td>\n",
       "      <td>-0.023096</td>\n",
       "      <td>0.039108</td>\n",
       "      <td>-0.052091</td>\n",
       "      <td>-0.001490</td>\n",
       "      <td>0.124402</td>\n",
       "      <td>-0.136132</td>\n",
       "      <td>0.172763</td>\n",
       "      <td>-0.101880</td>\n",
       "      <td>-0.060527</td>\n",
       "      <td>...</td>\n",
       "      <td>-0.013158</td>\n",
       "      <td>-0.013158</td>\n",
       "      <td>-0.013158</td>\n",
       "      <td>-0.013158</td>\n",
       "      <td>-0.013158</td>\n",
       "      <td>1.000000</td>\n",
       "      <td>-0.013158</td>\n",
       "      <td>-0.013158</td>\n",
       "      <td>-0.013158</td>\n",
       "      <td>-0.013158</td>\n",
       "    </tr>\n",
       "    <tr>\n",
       "      <th>name_Trix</th>\n",
       "      <td>-0.115326</td>\n",
       "      <td>-0.023096</td>\n",
       "      <td>0.039108</td>\n",
       "      <td>-0.181478</td>\n",
       "      <td>-0.001490</td>\n",
       "      <td>-0.027098</td>\n",
       "      <td>-0.136132</td>\n",
       "      <td>-0.043103</td>\n",
       "      <td>0.131904</td>\n",
       "      <td>-0.124546</td>\n",
       "      <td>...</td>\n",
       "      <td>-0.013158</td>\n",
       "      <td>-0.013158</td>\n",
       "      <td>-0.013158</td>\n",
       "      <td>-0.013158</td>\n",
       "      <td>-0.013158</td>\n",
       "      <td>-0.013158</td>\n",
       "      <td>1.000000</td>\n",
       "      <td>-0.013158</td>\n",
       "      <td>-0.013158</td>\n",
       "      <td>-0.013158</td>\n",
       "    </tr>\n",
       "    <tr>\n",
       "      <th>name_Wheat Chex</th>\n",
       "      <td>0.218512</td>\n",
       "      <td>-0.023096</td>\n",
       "      <td>-0.104288</td>\n",
       "      <td>0.077296</td>\n",
       "      <td>-0.001490</td>\n",
       "      <td>0.096856</td>\n",
       "      <td>0.093070</td>\n",
       "      <td>0.064830</td>\n",
       "      <td>-0.101880</td>\n",
       "      <td>0.040074</td>\n",
       "      <td>...</td>\n",
       "      <td>-0.013158</td>\n",
       "      <td>-0.013158</td>\n",
       "      <td>-0.013158</td>\n",
       "      <td>-0.013158</td>\n",
       "      <td>-0.013158</td>\n",
       "      <td>-0.013158</td>\n",
       "      <td>-0.013158</td>\n",
       "      <td>1.000000</td>\n",
       "      <td>-0.013158</td>\n",
       "      <td>-0.013158</td>\n",
       "    </tr>\n",
       "    <tr>\n",
       "      <th>name_Wheaties</th>\n",
       "      <td>-0.115326</td>\n",
       "      <td>-0.023096</td>\n",
       "      <td>-0.104288</td>\n",
       "      <td>0.077296</td>\n",
       "      <td>-0.001490</td>\n",
       "      <td>0.055538</td>\n",
       "      <td>0.093070</td>\n",
       "      <td>0.064830</td>\n",
       "      <td>-0.101880</td>\n",
       "      <td>0.030929</td>\n",
       "      <td>...</td>\n",
       "      <td>-0.013158</td>\n",
       "      <td>-0.013158</td>\n",
       "      <td>-0.013158</td>\n",
       "      <td>-0.013158</td>\n",
       "      <td>-0.013158</td>\n",
       "      <td>-0.013158</td>\n",
       "      <td>-0.013158</td>\n",
       "      <td>-0.013158</td>\n",
       "      <td>1.000000</td>\n",
       "      <td>-0.013158</td>\n",
       "    </tr>\n",
       "    <tr>\n",
       "      <th>name_Wheaties Honey Gold</th>\n",
       "      <td>-0.115326</td>\n",
       "      <td>-0.023096</td>\n",
       "      <td>0.039108</td>\n",
       "      <td>-0.052091</td>\n",
       "      <td>-0.001490</td>\n",
       "      <td>0.055538</td>\n",
       "      <td>-0.059731</td>\n",
       "      <td>0.037847</td>\n",
       "      <td>0.028000</td>\n",
       "      <td>-0.060527</td>\n",
       "      <td>...</td>\n",
       "      <td>-0.013158</td>\n",
       "      <td>-0.013158</td>\n",
       "      <td>-0.013158</td>\n",
       "      <td>-0.013158</td>\n",
       "      <td>-0.013158</td>\n",
       "      <td>-0.013158</td>\n",
       "      <td>-0.013158</td>\n",
       "      <td>-0.013158</td>\n",
       "      <td>-0.013158</td>\n",
       "      <td>1.000000</td>\n",
       "    </tr>\n",
       "  </tbody>\n",
       "</table>\n",
       "<p>92 rows × 92 columns</p>\n",
       "</div>"
      ],
      "text/plain": [
       "                               mfr      type  calories   protein       fat  \\\n",
       "mfr                       1.000000 -0.007103 -0.035222  0.046509  0.077661   \n",
       "type                     -0.007103  1.000000 -0.183056  0.135678 -0.002615   \n",
       "calories                 -0.035222 -0.183056  1.000000 -0.193114  0.410336   \n",
       "protein                   0.046509  0.135678 -0.193114  1.000000  0.213855   \n",
       "fat                       0.077661 -0.002615  0.410336  0.213855  1.000000   \n",
       "...                            ...       ...       ...       ...       ...   \n",
       "name_Triples             -0.115326 -0.023096  0.039108 -0.052091 -0.001490   \n",
       "name_Trix                -0.115326 -0.023096  0.039108 -0.181478 -0.001490   \n",
       "name_Wheat Chex           0.218512 -0.023096 -0.104288  0.077296 -0.001490   \n",
       "name_Wheaties            -0.115326 -0.023096 -0.104288  0.077296 -0.001490   \n",
       "name_Wheaties Honey Gold -0.115326 -0.023096  0.039108 -0.052091 -0.001490   \n",
       "\n",
       "                            sodium     fiber     carbo    sugars    potass  \\\n",
       "mfr                      -0.175791  0.150129 -0.063045 -0.132900  0.006860   \n",
       "type                     -0.321552 -0.073555 -0.123023 -0.285219 -0.080558   \n",
       "calories                  0.277421 -0.170652 -0.179320  0.420453  0.004119   \n",
       "protein                  -0.123989  0.558712 -0.051756 -0.194342  0.700347   \n",
       "fat                      -0.005407  0.137702 -0.318043  0.270819  0.237533   \n",
       "...                            ...       ...       ...       ...       ...   \n",
       "name_Triples              0.124402 -0.136132  0.172763 -0.101880 -0.060527   \n",
       "name_Trix                -0.027098 -0.136132 -0.043103  0.131904 -0.124546   \n",
       "name_Wheat Chex           0.096856  0.093070  0.064830 -0.101880  0.040074   \n",
       "name_Wheaties             0.055538  0.093070  0.064830 -0.101880  0.030929   \n",
       "name_Wheaties Honey Gold  0.055538 -0.059731  0.037847  0.028000 -0.060527   \n",
       "\n",
       "                          ...  name_Special K  name_Strawberry Fruit Wheats  \\\n",
       "mfr                       ...       -0.048558                      0.018209   \n",
       "type                      ...       -0.023096                     -0.023096   \n",
       "calories                  ...        0.039108                     -0.247683   \n",
       "protein                   ...       -0.052091                     -0.052091   \n",
       "fat                       ...       -0.116207                     -0.116207   \n",
       "...                       ...             ...                           ...   \n",
       "name_Triples              ...       -0.013158                     -0.013158   \n",
       "name_Trix                 ...       -0.013158                     -0.013158   \n",
       "name_Wheat Chex           ...       -0.013158                     -0.013158   \n",
       "name_Wheaties             ...       -0.013158                     -0.013158   \n",
       "name_Wheaties Honey Gold  ...       -0.013158                     -0.013158   \n",
       "\n",
       "                          name_Total Corn Flakes  name_Total Raisin Bran  \\\n",
       "mfr                                    -0.115326               -0.115326   \n",
       "type                                   -0.023096               -0.023096   \n",
       "calories                                0.039108                0.039108   \n",
       "protein                                -0.052091                0.077296   \n",
       "fat                                    -0.001490               -0.001490   \n",
       "...                                          ...                     ...   \n",
       "name_Triples                           -0.013158               -0.013158   \n",
       "name_Trix                              -0.013158               -0.013158   \n",
       "name_Wheat Chex                        -0.013158               -0.013158   \n",
       "name_Wheaties                          -0.013158               -0.013158   \n",
       "name_Wheaties Honey Gold               -0.013158               -0.013158   \n",
       "\n",
       "                          name_Total Whole Grain  name_Triples  name_Trix  \\\n",
       "mfr                                    -0.115326     -0.115326  -0.115326   \n",
       "type                                   -0.023096     -0.023096  -0.023096   \n",
       "calories                               -0.104288      0.039108   0.039108   \n",
       "protein                                 0.077296     -0.052091  -0.181478   \n",
       "fat                                    -0.001490     -0.001490  -0.001490   \n",
       "...                                          ...           ...        ...   \n",
       "name_Triples                           -0.013158      1.000000  -0.013158   \n",
       "name_Trix                              -0.013158     -0.013158   1.000000   \n",
       "name_Wheat Chex                        -0.013158     -0.013158  -0.013158   \n",
       "name_Wheaties                          -0.013158     -0.013158  -0.013158   \n",
       "name_Wheaties Honey Gold               -0.013158     -0.013158  -0.013158   \n",
       "\n",
       "                          name_Wheat Chex  name_Wheaties  \\\n",
       "mfr                              0.218512      -0.115326   \n",
       "type                            -0.023096      -0.023096   \n",
       "calories                        -0.104288      -0.104288   \n",
       "protein                          0.077296       0.077296   \n",
       "fat                             -0.001490      -0.001490   \n",
       "...                                   ...            ...   \n",
       "name_Triples                    -0.013158      -0.013158   \n",
       "name_Trix                       -0.013158      -0.013158   \n",
       "name_Wheat Chex                  1.000000      -0.013158   \n",
       "name_Wheaties                   -0.013158       1.000000   \n",
       "name_Wheaties Honey Gold        -0.013158      -0.013158   \n",
       "\n",
       "                          name_Wheaties Honey Gold  \n",
       "mfr                                      -0.115326  \n",
       "type                                     -0.023096  \n",
       "calories                                  0.039108  \n",
       "protein                                  -0.052091  \n",
       "fat                                      -0.001490  \n",
       "...                                            ...  \n",
       "name_Triples                             -0.013158  \n",
       "name_Trix                                -0.013158  \n",
       "name_Wheat Chex                          -0.013158  \n",
       "name_Wheaties                            -0.013158  \n",
       "name_Wheaties Honey Gold                  1.000000  \n",
       "\n",
       "[92 rows x 92 columns]"
      ]
     },
     "execution_count": 42,
     "metadata": {},
     "output_type": "execute_result"
    }
   ],
   "source": [
    "df.corr()"
   ]
  },
  {
   "cell_type": "code",
   "execution_count": 43,
   "id": "910ba377",
   "metadata": {},
   "outputs": [
    {
     "data": {
      "text/html": [
       "<div>\n",
       "<style scoped>\n",
       "    .dataframe tbody tr th:only-of-type {\n",
       "        vertical-align: middle;\n",
       "    }\n",
       "\n",
       "    .dataframe tbody tr th {\n",
       "        vertical-align: top;\n",
       "    }\n",
       "\n",
       "    .dataframe thead th {\n",
       "        text-align: right;\n",
       "    }\n",
       "</style>\n",
       "<table border=\"1\" class=\"dataframe\">\n",
       "  <thead>\n",
       "    <tr style=\"text-align: right;\">\n",
       "      <th></th>\n",
       "      <th>mfr</th>\n",
       "      <th>type</th>\n",
       "      <th>calories</th>\n",
       "      <th>protein</th>\n",
       "      <th>fat</th>\n",
       "      <th>sodium</th>\n",
       "      <th>fiber</th>\n",
       "      <th>carbo</th>\n",
       "      <th>sugars</th>\n",
       "      <th>potass</th>\n",
       "      <th>...</th>\n",
       "      <th>name_Special K</th>\n",
       "      <th>name_Strawberry Fruit Wheats</th>\n",
       "      <th>name_Total Corn Flakes</th>\n",
       "      <th>name_Total Raisin Bran</th>\n",
       "      <th>name_Total Whole Grain</th>\n",
       "      <th>name_Triples</th>\n",
       "      <th>name_Trix</th>\n",
       "      <th>name_Wheat Chex</th>\n",
       "      <th>name_Wheaties</th>\n",
       "      <th>name_Wheaties Honey Gold</th>\n",
       "    </tr>\n",
       "  </thead>\n",
       "  <tbody>\n",
       "    <tr>\n",
       "      <th>0</th>\n",
       "      <td>3</td>\n",
       "      <td>0</td>\n",
       "      <td>110</td>\n",
       "      <td>4</td>\n",
       "      <td>1</td>\n",
       "      <td>130</td>\n",
       "      <td>1.5</td>\n",
       "      <td>5.0</td>\n",
       "      <td>6</td>\n",
       "      <td>240</td>\n",
       "      <td>...</td>\n",
       "      <td>0</td>\n",
       "      <td>0</td>\n",
       "      <td>0</td>\n",
       "      <td>0</td>\n",
       "      <td>0</td>\n",
       "      <td>0</td>\n",
       "      <td>0</td>\n",
       "      <td>0</td>\n",
       "      <td>0</td>\n",
       "      <td>0</td>\n",
       "    </tr>\n",
       "    <tr>\n",
       "      <th>1</th>\n",
       "      <td>5</td>\n",
       "      <td>0</td>\n",
       "      <td>120</td>\n",
       "      <td>3</td>\n",
       "      <td>5</td>\n",
       "      <td>15</td>\n",
       "      <td>2.0</td>\n",
       "      <td>8.0</td>\n",
       "      <td>8</td>\n",
       "      <td>135</td>\n",
       "      <td>...</td>\n",
       "      <td>0</td>\n",
       "      <td>0</td>\n",
       "      <td>0</td>\n",
       "      <td>0</td>\n",
       "      <td>0</td>\n",
       "      <td>0</td>\n",
       "      <td>0</td>\n",
       "      <td>0</td>\n",
       "      <td>0</td>\n",
       "      <td>0</td>\n",
       "    </tr>\n",
       "    <tr>\n",
       "      <th>2</th>\n",
       "      <td>2</td>\n",
       "      <td>0</td>\n",
       "      <td>110</td>\n",
       "      <td>4</td>\n",
       "      <td>1</td>\n",
       "      <td>260</td>\n",
       "      <td>1.5</td>\n",
       "      <td>7.0</td>\n",
       "      <td>5</td>\n",
       "      <td>240</td>\n",
       "      <td>...</td>\n",
       "      <td>0</td>\n",
       "      <td>0</td>\n",
       "      <td>0</td>\n",
       "      <td>0</td>\n",
       "      <td>0</td>\n",
       "      <td>0</td>\n",
       "      <td>0</td>\n",
       "      <td>0</td>\n",
       "      <td>0</td>\n",
       "      <td>0</td>\n",
       "    </tr>\n",
       "    <tr>\n",
       "      <th>3</th>\n",
       "      <td>2</td>\n",
       "      <td>0</td>\n",
       "      <td>110</td>\n",
       "      <td>4</td>\n",
       "      <td>0</td>\n",
       "      <td>140</td>\n",
       "      <td>1.5</td>\n",
       "      <td>8.0</td>\n",
       "      <td>0</td>\n",
       "      <td>240</td>\n",
       "      <td>...</td>\n",
       "      <td>0</td>\n",
       "      <td>0</td>\n",
       "      <td>0</td>\n",
       "      <td>0</td>\n",
       "      <td>0</td>\n",
       "      <td>0</td>\n",
       "      <td>0</td>\n",
       "      <td>0</td>\n",
       "      <td>0</td>\n",
       "      <td>0</td>\n",
       "    </tr>\n",
       "    <tr>\n",
       "      <th>4</th>\n",
       "      <td>6</td>\n",
       "      <td>0</td>\n",
       "      <td>110</td>\n",
       "      <td>2</td>\n",
       "      <td>2</td>\n",
       "      <td>200</td>\n",
       "      <td>1.0</td>\n",
       "      <td>14.0</td>\n",
       "      <td>8</td>\n",
       "      <td>-1</td>\n",
       "      <td>...</td>\n",
       "      <td>0</td>\n",
       "      <td>0</td>\n",
       "      <td>0</td>\n",
       "      <td>0</td>\n",
       "      <td>0</td>\n",
       "      <td>0</td>\n",
       "      <td>0</td>\n",
       "      <td>0</td>\n",
       "      <td>0</td>\n",
       "      <td>0</td>\n",
       "    </tr>\n",
       "    <tr>\n",
       "      <th>...</th>\n",
       "      <td>...</td>\n",
       "      <td>...</td>\n",
       "      <td>...</td>\n",
       "      <td>...</td>\n",
       "      <td>...</td>\n",
       "      <td>...</td>\n",
       "      <td>...</td>\n",
       "      <td>...</td>\n",
       "      <td>...</td>\n",
       "      <td>...</td>\n",
       "      <td>...</td>\n",
       "      <td>...</td>\n",
       "      <td>...</td>\n",
       "      <td>...</td>\n",
       "      <td>...</td>\n",
       "      <td>...</td>\n",
       "      <td>...</td>\n",
       "      <td>...</td>\n",
       "      <td>...</td>\n",
       "      <td>...</td>\n",
       "      <td>...</td>\n",
       "    </tr>\n",
       "    <tr>\n",
       "      <th>72</th>\n",
       "      <td>1</td>\n",
       "      <td>0</td>\n",
       "      <td>110</td>\n",
       "      <td>2</td>\n",
       "      <td>1</td>\n",
       "      <td>250</td>\n",
       "      <td>0.0</td>\n",
       "      <td>21.0</td>\n",
       "      <td>3</td>\n",
       "      <td>60</td>\n",
       "      <td>...</td>\n",
       "      <td>0</td>\n",
       "      <td>0</td>\n",
       "      <td>0</td>\n",
       "      <td>0</td>\n",
       "      <td>0</td>\n",
       "      <td>1</td>\n",
       "      <td>0</td>\n",
       "      <td>0</td>\n",
       "      <td>0</td>\n",
       "      <td>0</td>\n",
       "    </tr>\n",
       "    <tr>\n",
       "      <th>73</th>\n",
       "      <td>1</td>\n",
       "      <td>0</td>\n",
       "      <td>110</td>\n",
       "      <td>1</td>\n",
       "      <td>1</td>\n",
       "      <td>140</td>\n",
       "      <td>0.0</td>\n",
       "      <td>13.0</td>\n",
       "      <td>12</td>\n",
       "      <td>25</td>\n",
       "      <td>...</td>\n",
       "      <td>0</td>\n",
       "      <td>0</td>\n",
       "      <td>0</td>\n",
       "      <td>0</td>\n",
       "      <td>0</td>\n",
       "      <td>0</td>\n",
       "      <td>1</td>\n",
       "      <td>0</td>\n",
       "      <td>0</td>\n",
       "      <td>0</td>\n",
       "    </tr>\n",
       "    <tr>\n",
       "      <th>74</th>\n",
       "      <td>6</td>\n",
       "      <td>0</td>\n",
       "      <td>100</td>\n",
       "      <td>3</td>\n",
       "      <td>1</td>\n",
       "      <td>230</td>\n",
       "      <td>3.0</td>\n",
       "      <td>17.0</td>\n",
       "      <td>3</td>\n",
       "      <td>115</td>\n",
       "      <td>...</td>\n",
       "      <td>0</td>\n",
       "      <td>0</td>\n",
       "      <td>0</td>\n",
       "      <td>0</td>\n",
       "      <td>0</td>\n",
       "      <td>0</td>\n",
       "      <td>0</td>\n",
       "      <td>1</td>\n",
       "      <td>0</td>\n",
       "      <td>0</td>\n",
       "    </tr>\n",
       "    <tr>\n",
       "      <th>75</th>\n",
       "      <td>1</td>\n",
       "      <td>0</td>\n",
       "      <td>100</td>\n",
       "      <td>3</td>\n",
       "      <td>1</td>\n",
       "      <td>200</td>\n",
       "      <td>3.0</td>\n",
       "      <td>17.0</td>\n",
       "      <td>3</td>\n",
       "      <td>110</td>\n",
       "      <td>...</td>\n",
       "      <td>0</td>\n",
       "      <td>0</td>\n",
       "      <td>0</td>\n",
       "      <td>0</td>\n",
       "      <td>0</td>\n",
       "      <td>0</td>\n",
       "      <td>0</td>\n",
       "      <td>0</td>\n",
       "      <td>1</td>\n",
       "      <td>0</td>\n",
       "    </tr>\n",
       "    <tr>\n",
       "      <th>76</th>\n",
       "      <td>1</td>\n",
       "      <td>0</td>\n",
       "      <td>110</td>\n",
       "      <td>2</td>\n",
       "      <td>1</td>\n",
       "      <td>200</td>\n",
       "      <td>1.0</td>\n",
       "      <td>16.0</td>\n",
       "      <td>8</td>\n",
       "      <td>60</td>\n",
       "      <td>...</td>\n",
       "      <td>0</td>\n",
       "      <td>0</td>\n",
       "      <td>0</td>\n",
       "      <td>0</td>\n",
       "      <td>0</td>\n",
       "      <td>0</td>\n",
       "      <td>0</td>\n",
       "      <td>0</td>\n",
       "      <td>0</td>\n",
       "      <td>1</td>\n",
       "    </tr>\n",
       "  </tbody>\n",
       "</table>\n",
       "<p>77 rows × 90 columns</p>\n",
       "</div>"
      ],
      "text/plain": [
       "    mfr  type  calories  protein  fat  sodium  fiber  carbo  sugars  potass  \\\n",
       "0     3     0       110        4    1     130    1.5    5.0       6     240   \n",
       "1     5     0       120        3    5      15    2.0    8.0       8     135   \n",
       "2     2     0       110        4    1     260    1.5    7.0       5     240   \n",
       "3     2     0       110        4    0     140    1.5    8.0       0     240   \n",
       "4     6     0       110        2    2     200    1.0   14.0       8      -1   \n",
       "..  ...   ...       ...      ...  ...     ...    ...    ...     ...     ...   \n",
       "72    1     0       110        2    1     250    0.0   21.0       3      60   \n",
       "73    1     0       110        1    1     140    0.0   13.0      12      25   \n",
       "74    6     0       100        3    1     230    3.0   17.0       3     115   \n",
       "75    1     0       100        3    1     200    3.0   17.0       3     110   \n",
       "76    1     0       110        2    1     200    1.0   16.0       8      60   \n",
       "\n",
       "    ...  name_Special K  name_Strawberry Fruit Wheats  name_Total Corn Flakes  \\\n",
       "0   ...               0                             0                       0   \n",
       "1   ...               0                             0                       0   \n",
       "2   ...               0                             0                       0   \n",
       "3   ...               0                             0                       0   \n",
       "4   ...               0                             0                       0   \n",
       "..  ...             ...                           ...                     ...   \n",
       "72  ...               0                             0                       0   \n",
       "73  ...               0                             0                       0   \n",
       "74  ...               0                             0                       0   \n",
       "75  ...               0                             0                       0   \n",
       "76  ...               0                             0                       0   \n",
       "\n",
       "    name_Total Raisin Bran  name_Total Whole Grain  name_Triples  name_Trix  \\\n",
       "0                        0                       0             0          0   \n",
       "1                        0                       0             0          0   \n",
       "2                        0                       0             0          0   \n",
       "3                        0                       0             0          0   \n",
       "4                        0                       0             0          0   \n",
       "..                     ...                     ...           ...        ...   \n",
       "72                       0                       0             1          0   \n",
       "73                       0                       0             0          1   \n",
       "74                       0                       0             0          0   \n",
       "75                       0                       0             0          0   \n",
       "76                       0                       0             0          0   \n",
       "\n",
       "    name_Wheat Chex  name_Wheaties  name_Wheaties Honey Gold  \n",
       "0                 0              0                         0  \n",
       "1                 0              0                         0  \n",
       "2                 0              0                         0  \n",
       "3                 0              0                         0  \n",
       "4                 0              0                         0  \n",
       "..              ...            ...                       ...  \n",
       "72                0              0                         0  \n",
       "73                0              0                         0  \n",
       "74                1              0                         0  \n",
       "75                0              1                         0  \n",
       "76                0              0                         1  \n",
       "\n",
       "[77 rows x 90 columns]"
      ]
     },
     "execution_count": 43,
     "metadata": {},
     "output_type": "execute_result"
    }
   ],
   "source": [
    "df = df.drop(['vitamins','weight'],axis =1)\n",
    "df"
   ]
  },
  {
   "cell_type": "markdown",
   "id": "7eddd098",
   "metadata": {},
   "source": [
    "# Model Training"
   ]
  },
  {
   "cell_type": "code",
   "execution_count": 44,
   "id": "8e414a70",
   "metadata": {},
   "outputs": [],
   "source": [
    "x = df.drop('rating',axis = 1)\n",
    "y = df['rating']"
   ]
  },
  {
   "cell_type": "code",
   "execution_count": 45,
   "id": "f37efbbe",
   "metadata": {},
   "outputs": [
    {
     "data": {
      "text/html": [
       "<div>\n",
       "<style scoped>\n",
       "    .dataframe tbody tr th:only-of-type {\n",
       "        vertical-align: middle;\n",
       "    }\n",
       "\n",
       "    .dataframe tbody tr th {\n",
       "        vertical-align: top;\n",
       "    }\n",
       "\n",
       "    .dataframe thead th {\n",
       "        text-align: right;\n",
       "    }\n",
       "</style>\n",
       "<table border=\"1\" class=\"dataframe\">\n",
       "  <thead>\n",
       "    <tr style=\"text-align: right;\">\n",
       "      <th></th>\n",
       "      <th>mfr</th>\n",
       "      <th>type</th>\n",
       "      <th>calories</th>\n",
       "      <th>protein</th>\n",
       "      <th>fat</th>\n",
       "      <th>sodium</th>\n",
       "      <th>fiber</th>\n",
       "      <th>carbo</th>\n",
       "      <th>sugars</th>\n",
       "      <th>potass</th>\n",
       "      <th>...</th>\n",
       "      <th>name_Special K</th>\n",
       "      <th>name_Strawberry Fruit Wheats</th>\n",
       "      <th>name_Total Corn Flakes</th>\n",
       "      <th>name_Total Raisin Bran</th>\n",
       "      <th>name_Total Whole Grain</th>\n",
       "      <th>name_Triples</th>\n",
       "      <th>name_Trix</th>\n",
       "      <th>name_Wheat Chex</th>\n",
       "      <th>name_Wheaties</th>\n",
       "      <th>name_Wheaties Honey Gold</th>\n",
       "    </tr>\n",
       "  </thead>\n",
       "  <tbody>\n",
       "    <tr>\n",
       "      <th>0</th>\n",
       "      <td>3</td>\n",
       "      <td>0</td>\n",
       "      <td>110</td>\n",
       "      <td>4</td>\n",
       "      <td>1</td>\n",
       "      <td>130</td>\n",
       "      <td>1.5</td>\n",
       "      <td>5.0</td>\n",
       "      <td>6</td>\n",
       "      <td>240</td>\n",
       "      <td>...</td>\n",
       "      <td>0</td>\n",
       "      <td>0</td>\n",
       "      <td>0</td>\n",
       "      <td>0</td>\n",
       "      <td>0</td>\n",
       "      <td>0</td>\n",
       "      <td>0</td>\n",
       "      <td>0</td>\n",
       "      <td>0</td>\n",
       "      <td>0</td>\n",
       "    </tr>\n",
       "    <tr>\n",
       "      <th>1</th>\n",
       "      <td>5</td>\n",
       "      <td>0</td>\n",
       "      <td>120</td>\n",
       "      <td>3</td>\n",
       "      <td>5</td>\n",
       "      <td>15</td>\n",
       "      <td>2.0</td>\n",
       "      <td>8.0</td>\n",
       "      <td>8</td>\n",
       "      <td>135</td>\n",
       "      <td>...</td>\n",
       "      <td>0</td>\n",
       "      <td>0</td>\n",
       "      <td>0</td>\n",
       "      <td>0</td>\n",
       "      <td>0</td>\n",
       "      <td>0</td>\n",
       "      <td>0</td>\n",
       "      <td>0</td>\n",
       "      <td>0</td>\n",
       "      <td>0</td>\n",
       "    </tr>\n",
       "    <tr>\n",
       "      <th>2</th>\n",
       "      <td>2</td>\n",
       "      <td>0</td>\n",
       "      <td>110</td>\n",
       "      <td>4</td>\n",
       "      <td>1</td>\n",
       "      <td>260</td>\n",
       "      <td>1.5</td>\n",
       "      <td>7.0</td>\n",
       "      <td>5</td>\n",
       "      <td>240</td>\n",
       "      <td>...</td>\n",
       "      <td>0</td>\n",
       "      <td>0</td>\n",
       "      <td>0</td>\n",
       "      <td>0</td>\n",
       "      <td>0</td>\n",
       "      <td>0</td>\n",
       "      <td>0</td>\n",
       "      <td>0</td>\n",
       "      <td>0</td>\n",
       "      <td>0</td>\n",
       "    </tr>\n",
       "    <tr>\n",
       "      <th>3</th>\n",
       "      <td>2</td>\n",
       "      <td>0</td>\n",
       "      <td>110</td>\n",
       "      <td>4</td>\n",
       "      <td>0</td>\n",
       "      <td>140</td>\n",
       "      <td>1.5</td>\n",
       "      <td>8.0</td>\n",
       "      <td>0</td>\n",
       "      <td>240</td>\n",
       "      <td>...</td>\n",
       "      <td>0</td>\n",
       "      <td>0</td>\n",
       "      <td>0</td>\n",
       "      <td>0</td>\n",
       "      <td>0</td>\n",
       "      <td>0</td>\n",
       "      <td>0</td>\n",
       "      <td>0</td>\n",
       "      <td>0</td>\n",
       "      <td>0</td>\n",
       "    </tr>\n",
       "    <tr>\n",
       "      <th>4</th>\n",
       "      <td>6</td>\n",
       "      <td>0</td>\n",
       "      <td>110</td>\n",
       "      <td>2</td>\n",
       "      <td>2</td>\n",
       "      <td>200</td>\n",
       "      <td>1.0</td>\n",
       "      <td>14.0</td>\n",
       "      <td>8</td>\n",
       "      <td>-1</td>\n",
       "      <td>...</td>\n",
       "      <td>0</td>\n",
       "      <td>0</td>\n",
       "      <td>0</td>\n",
       "      <td>0</td>\n",
       "      <td>0</td>\n",
       "      <td>0</td>\n",
       "      <td>0</td>\n",
       "      <td>0</td>\n",
       "      <td>0</td>\n",
       "      <td>0</td>\n",
       "    </tr>\n",
       "    <tr>\n",
       "      <th>...</th>\n",
       "      <td>...</td>\n",
       "      <td>...</td>\n",
       "      <td>...</td>\n",
       "      <td>...</td>\n",
       "      <td>...</td>\n",
       "      <td>...</td>\n",
       "      <td>...</td>\n",
       "      <td>...</td>\n",
       "      <td>...</td>\n",
       "      <td>...</td>\n",
       "      <td>...</td>\n",
       "      <td>...</td>\n",
       "      <td>...</td>\n",
       "      <td>...</td>\n",
       "      <td>...</td>\n",
       "      <td>...</td>\n",
       "      <td>...</td>\n",
       "      <td>...</td>\n",
       "      <td>...</td>\n",
       "      <td>...</td>\n",
       "      <td>...</td>\n",
       "    </tr>\n",
       "    <tr>\n",
       "      <th>72</th>\n",
       "      <td>1</td>\n",
       "      <td>0</td>\n",
       "      <td>110</td>\n",
       "      <td>2</td>\n",
       "      <td>1</td>\n",
       "      <td>250</td>\n",
       "      <td>0.0</td>\n",
       "      <td>21.0</td>\n",
       "      <td>3</td>\n",
       "      <td>60</td>\n",
       "      <td>...</td>\n",
       "      <td>0</td>\n",
       "      <td>0</td>\n",
       "      <td>0</td>\n",
       "      <td>0</td>\n",
       "      <td>0</td>\n",
       "      <td>1</td>\n",
       "      <td>0</td>\n",
       "      <td>0</td>\n",
       "      <td>0</td>\n",
       "      <td>0</td>\n",
       "    </tr>\n",
       "    <tr>\n",
       "      <th>73</th>\n",
       "      <td>1</td>\n",
       "      <td>0</td>\n",
       "      <td>110</td>\n",
       "      <td>1</td>\n",
       "      <td>1</td>\n",
       "      <td>140</td>\n",
       "      <td>0.0</td>\n",
       "      <td>13.0</td>\n",
       "      <td>12</td>\n",
       "      <td>25</td>\n",
       "      <td>...</td>\n",
       "      <td>0</td>\n",
       "      <td>0</td>\n",
       "      <td>0</td>\n",
       "      <td>0</td>\n",
       "      <td>0</td>\n",
       "      <td>0</td>\n",
       "      <td>1</td>\n",
       "      <td>0</td>\n",
       "      <td>0</td>\n",
       "      <td>0</td>\n",
       "    </tr>\n",
       "    <tr>\n",
       "      <th>74</th>\n",
       "      <td>6</td>\n",
       "      <td>0</td>\n",
       "      <td>100</td>\n",
       "      <td>3</td>\n",
       "      <td>1</td>\n",
       "      <td>230</td>\n",
       "      <td>3.0</td>\n",
       "      <td>17.0</td>\n",
       "      <td>3</td>\n",
       "      <td>115</td>\n",
       "      <td>...</td>\n",
       "      <td>0</td>\n",
       "      <td>0</td>\n",
       "      <td>0</td>\n",
       "      <td>0</td>\n",
       "      <td>0</td>\n",
       "      <td>0</td>\n",
       "      <td>0</td>\n",
       "      <td>1</td>\n",
       "      <td>0</td>\n",
       "      <td>0</td>\n",
       "    </tr>\n",
       "    <tr>\n",
       "      <th>75</th>\n",
       "      <td>1</td>\n",
       "      <td>0</td>\n",
       "      <td>100</td>\n",
       "      <td>3</td>\n",
       "      <td>1</td>\n",
       "      <td>200</td>\n",
       "      <td>3.0</td>\n",
       "      <td>17.0</td>\n",
       "      <td>3</td>\n",
       "      <td>110</td>\n",
       "      <td>...</td>\n",
       "      <td>0</td>\n",
       "      <td>0</td>\n",
       "      <td>0</td>\n",
       "      <td>0</td>\n",
       "      <td>0</td>\n",
       "      <td>0</td>\n",
       "      <td>0</td>\n",
       "      <td>0</td>\n",
       "      <td>1</td>\n",
       "      <td>0</td>\n",
       "    </tr>\n",
       "    <tr>\n",
       "      <th>76</th>\n",
       "      <td>1</td>\n",
       "      <td>0</td>\n",
       "      <td>110</td>\n",
       "      <td>2</td>\n",
       "      <td>1</td>\n",
       "      <td>200</td>\n",
       "      <td>1.0</td>\n",
       "      <td>16.0</td>\n",
       "      <td>8</td>\n",
       "      <td>60</td>\n",
       "      <td>...</td>\n",
       "      <td>0</td>\n",
       "      <td>0</td>\n",
       "      <td>0</td>\n",
       "      <td>0</td>\n",
       "      <td>0</td>\n",
       "      <td>0</td>\n",
       "      <td>0</td>\n",
       "      <td>0</td>\n",
       "      <td>0</td>\n",
       "      <td>1</td>\n",
       "    </tr>\n",
       "  </tbody>\n",
       "</table>\n",
       "<p>77 rows × 89 columns</p>\n",
       "</div>"
      ],
      "text/plain": [
       "    mfr  type  calories  protein  fat  sodium  fiber  carbo  sugars  potass  \\\n",
       "0     3     0       110        4    1     130    1.5    5.0       6     240   \n",
       "1     5     0       120        3    5      15    2.0    8.0       8     135   \n",
       "2     2     0       110        4    1     260    1.5    7.0       5     240   \n",
       "3     2     0       110        4    0     140    1.5    8.0       0     240   \n",
       "4     6     0       110        2    2     200    1.0   14.0       8      -1   \n",
       "..  ...   ...       ...      ...  ...     ...    ...    ...     ...     ...   \n",
       "72    1     0       110        2    1     250    0.0   21.0       3      60   \n",
       "73    1     0       110        1    1     140    0.0   13.0      12      25   \n",
       "74    6     0       100        3    1     230    3.0   17.0       3     115   \n",
       "75    1     0       100        3    1     200    3.0   17.0       3     110   \n",
       "76    1     0       110        2    1     200    1.0   16.0       8      60   \n",
       "\n",
       "    ...  name_Special K  name_Strawberry Fruit Wheats  name_Total Corn Flakes  \\\n",
       "0   ...               0                             0                       0   \n",
       "1   ...               0                             0                       0   \n",
       "2   ...               0                             0                       0   \n",
       "3   ...               0                             0                       0   \n",
       "4   ...               0                             0                       0   \n",
       "..  ...             ...                           ...                     ...   \n",
       "72  ...               0                             0                       0   \n",
       "73  ...               0                             0                       0   \n",
       "74  ...               0                             0                       0   \n",
       "75  ...               0                             0                       0   \n",
       "76  ...               0                             0                       0   \n",
       "\n",
       "    name_Total Raisin Bran  name_Total Whole Grain  name_Triples  name_Trix  \\\n",
       "0                        0                       0             0          0   \n",
       "1                        0                       0             0          0   \n",
       "2                        0                       0             0          0   \n",
       "3                        0                       0             0          0   \n",
       "4                        0                       0             0          0   \n",
       "..                     ...                     ...           ...        ...   \n",
       "72                       0                       0             1          0   \n",
       "73                       0                       0             0          1   \n",
       "74                       0                       0             0          0   \n",
       "75                       0                       0             0          0   \n",
       "76                       0                       0             0          0   \n",
       "\n",
       "    name_Wheat Chex  name_Wheaties  name_Wheaties Honey Gold  \n",
       "0                 0              0                         0  \n",
       "1                 0              0                         0  \n",
       "2                 0              0                         0  \n",
       "3                 0              0                         0  \n",
       "4                 0              0                         0  \n",
       "..              ...            ...                       ...  \n",
       "72                0              0                         0  \n",
       "73                0              0                         0  \n",
       "74                1              0                         0  \n",
       "75                0              1                         0  \n",
       "76                0              0                         1  \n",
       "\n",
       "[77 rows x 89 columns]"
      ]
     },
     "execution_count": 45,
     "metadata": {},
     "output_type": "execute_result"
    }
   ],
   "source": [
    "x"
   ]
  },
  {
   "cell_type": "code",
   "execution_count": 46,
   "id": "6a0ea3a4",
   "metadata": {},
   "outputs": [
    {
     "data": {
      "text/plain": [
       "0     68.402973\n",
       "1     33.983679\n",
       "2     59.425505\n",
       "3     93.704912\n",
       "4     34.384843\n",
       "        ...    \n",
       "72    39.106174\n",
       "73    27.753301\n",
       "74    49.787445\n",
       "75    51.592193\n",
       "76    36.187559\n",
       "Name: rating, Length: 77, dtype: float64"
      ]
     },
     "execution_count": 46,
     "metadata": {},
     "output_type": "execute_result"
    }
   ],
   "source": [
    "y"
   ]
  },
  {
   "cell_type": "code",
   "execution_count": 47,
   "id": "7ae3498a",
   "metadata": {},
   "outputs": [],
   "source": [
    "x_train,x_test,y_train,y_test = train_test_split(x,y,test_size=0.2,random_state=5)\n"
   ]
  },
  {
   "cell_type": "code",
   "execution_count": 48,
   "id": "d6c89740",
   "metadata": {},
   "outputs": [
    {
     "data": {
      "text/html": [
       "<style>#sk-container-id-1 {color: black;background-color: white;}#sk-container-id-1 pre{padding: 0;}#sk-container-id-1 div.sk-toggleable {background-color: white;}#sk-container-id-1 label.sk-toggleable__label {cursor: pointer;display: block;width: 100%;margin-bottom: 0;padding: 0.3em;box-sizing: border-box;text-align: center;}#sk-container-id-1 label.sk-toggleable__label-arrow:before {content: \"▸\";float: left;margin-right: 0.25em;color: #696969;}#sk-container-id-1 label.sk-toggleable__label-arrow:hover:before {color: black;}#sk-container-id-1 div.sk-estimator:hover label.sk-toggleable__label-arrow:before {color: black;}#sk-container-id-1 div.sk-toggleable__content {max-height: 0;max-width: 0;overflow: hidden;text-align: left;background-color: #f0f8ff;}#sk-container-id-1 div.sk-toggleable__content pre {margin: 0.2em;color: black;border-radius: 0.25em;background-color: #f0f8ff;}#sk-container-id-1 input.sk-toggleable__control:checked~div.sk-toggleable__content {max-height: 200px;max-width: 100%;overflow: auto;}#sk-container-id-1 input.sk-toggleable__control:checked~label.sk-toggleable__label-arrow:before {content: \"▾\";}#sk-container-id-1 div.sk-estimator input.sk-toggleable__control:checked~label.sk-toggleable__label {background-color: #d4ebff;}#sk-container-id-1 div.sk-label input.sk-toggleable__control:checked~label.sk-toggleable__label {background-color: #d4ebff;}#sk-container-id-1 input.sk-hidden--visually {border: 0;clip: rect(1px 1px 1px 1px);clip: rect(1px, 1px, 1px, 1px);height: 1px;margin: -1px;overflow: hidden;padding: 0;position: absolute;width: 1px;}#sk-container-id-1 div.sk-estimator {font-family: monospace;background-color: #f0f8ff;border: 1px dotted black;border-radius: 0.25em;box-sizing: border-box;margin-bottom: 0.5em;}#sk-container-id-1 div.sk-estimator:hover {background-color: #d4ebff;}#sk-container-id-1 div.sk-parallel-item::after {content: \"\";width: 100%;border-bottom: 1px solid gray;flex-grow: 1;}#sk-container-id-1 div.sk-label:hover label.sk-toggleable__label {background-color: #d4ebff;}#sk-container-id-1 div.sk-serial::before {content: \"\";position: absolute;border-left: 1px solid gray;box-sizing: border-box;top: 0;bottom: 0;left: 50%;z-index: 0;}#sk-container-id-1 div.sk-serial {display: flex;flex-direction: column;align-items: center;background-color: white;padding-right: 0.2em;padding-left: 0.2em;position: relative;}#sk-container-id-1 div.sk-item {position: relative;z-index: 1;}#sk-container-id-1 div.sk-parallel {display: flex;align-items: stretch;justify-content: center;background-color: white;position: relative;}#sk-container-id-1 div.sk-item::before, #sk-container-id-1 div.sk-parallel-item::before {content: \"\";position: absolute;border-left: 1px solid gray;box-sizing: border-box;top: 0;bottom: 0;left: 50%;z-index: -1;}#sk-container-id-1 div.sk-parallel-item {display: flex;flex-direction: column;z-index: 1;position: relative;background-color: white;}#sk-container-id-1 div.sk-parallel-item:first-child::after {align-self: flex-end;width: 50%;}#sk-container-id-1 div.sk-parallel-item:last-child::after {align-self: flex-start;width: 50%;}#sk-container-id-1 div.sk-parallel-item:only-child::after {width: 0;}#sk-container-id-1 div.sk-dashed-wrapped {border: 1px dashed gray;margin: 0 0.4em 0.5em 0.4em;box-sizing: border-box;padding-bottom: 0.4em;background-color: white;}#sk-container-id-1 div.sk-label label {font-family: monospace;font-weight: bold;display: inline-block;line-height: 1.2em;}#sk-container-id-1 div.sk-label-container {text-align: center;}#sk-container-id-1 div.sk-container {/* jupyter's `normalize.less` sets `[hidden] { display: none; }` but bootstrap.min.css set `[hidden] { display: none !important; }` so we also need the `!important` here to be able to override the default hidden behavior on the sphinx rendered scikit-learn.org. See: https://github.com/scikit-learn/scikit-learn/issues/21755 */display: inline-block !important;position: relative;}#sk-container-id-1 div.sk-text-repr-fallback {display: none;}</style><div id=\"sk-container-id-1\" class=\"sk-top-container\"><div class=\"sk-text-repr-fallback\"><pre>LinearRegression()</pre><b>In a Jupyter environment, please rerun this cell to show the HTML representation or trust the notebook. <br />On GitHub, the HTML representation is unable to render, please try loading this page with nbviewer.org.</b></div><div class=\"sk-container\" hidden><div class=\"sk-item\"><div class=\"sk-estimator sk-toggleable\"><input class=\"sk-toggleable__control sk-hidden--visually\" id=\"sk-estimator-id-1\" type=\"checkbox\" checked><label for=\"sk-estimator-id-1\" class=\"sk-toggleable__label sk-toggleable__label-arrow\">LinearRegression</label><div class=\"sk-toggleable__content\"><pre>LinearRegression()</pre></div></div></div></div></div>"
      ],
      "text/plain": [
       "LinearRegression()"
      ]
     },
     "execution_count": 48,
     "metadata": {},
     "output_type": "execute_result"
    }
   ],
   "source": [
    "cereal = LinearRegression()\n",
    "cereal.fit(x_train,y_train)"
   ]
  },
  {
   "cell_type": "markdown",
   "id": "83830eec",
   "metadata": {},
   "source": [
    "# Model Evalution"
   ]
  },
  {
   "cell_type": "markdown",
   "id": "35f52fe7",
   "metadata": {},
   "source": [
    "### testing data"
   ]
  },
  {
   "cell_type": "code",
   "execution_count": 49,
   "id": "f30e441f",
   "metadata": {},
   "outputs": [
    {
     "name": "stdout",
     "output_type": "stream",
     "text": [
      "mse--> 7.088158682764389\n",
      "rmse--> 2.6623596080853518\n",
      "mae--> 2.2068937933137205\n",
      "r2_score--> 0.9573386163357929\n"
     ]
    }
   ],
   "source": [
    "y_test_pred = cereal.predict(x_test)\n",
    "mse = mean_squared_error(y_test,y_test_pred)\n",
    "print(\"mse-->\",mse)\n",
    "\n",
    "rmse = np.sqrt(mse)\n",
    "print(\"rmse-->\",rmse)\n",
    "\n",
    "mae = mean_absolute_error(y_test,y_test_pred)\n",
    "print(\"mae-->\",mae)\n",
    "\n",
    "r2 = r2_score(y_test,y_test_pred)\n",
    "print('r2_score-->',r2)"
   ]
  },
  {
   "cell_type": "markdown",
   "id": "2e3119ba",
   "metadata": {},
   "source": [
    "### training data"
   ]
  },
  {
   "cell_type": "code",
   "execution_count": 50,
   "id": "0fca9d48",
   "metadata": {},
   "outputs": [
    {
     "name": "stdout",
     "output_type": "stream",
     "text": [
      "mse--> 1.2193213511236186e-25\n",
      "rmse--> 3.4918782211348934e-13\n",
      "mae--> 2.789753855976131e-13\n",
      "r2_score--> 1.0\n"
     ]
    }
   ],
   "source": [
    "y_train_pred = cereal.predict(x_train)\n",
    "mse = mean_squared_error(y_train,y_train_pred)\n",
    "print(\"mse-->\",mse)\n",
    "\n",
    "rmse = np.sqrt(mse)\n",
    "print(\"rmse-->\",rmse)\n",
    "\n",
    "mae = mean_absolute_error(y_train,y_train_pred)\n",
    "print(\"mae-->\",mae)\n",
    "\n",
    "r2 = r2_score(y_train,y_train_pred)\n",
    "print('r2_score-->',r2)"
   ]
  },
  {
   "cell_type": "markdown",
   "id": "b944bb91",
   "metadata": {},
   "source": [
    "# Training on single row"
   ]
  },
  {
   "cell_type": "code",
   "execution_count": 51,
   "id": "3ecb84a8",
   "metadata": {},
   "outputs": [
    {
     "data": {
      "text/plain": [
       "Index(['mfr', 'type', 'calories', 'protein', 'fat', 'sodium', 'fiber', 'carbo',\n",
       "       'sugars', 'potass', 'shelf', 'cups', 'name_100% Bran',\n",
       "       'name_100% Natural Bran', 'name_All-Bran',\n",
       "       'name_All-Bran with Extra Fiber', 'name_Almond Delight',\n",
       "       'name_Apple Cinnamon Cheerios', 'name_Apple Jacks', 'name_Basic 4',\n",
       "       'name_Bran Chex', 'name_Bran Flakes', 'name_Cap'n'Crunch',\n",
       "       'name_Cheerios', 'name_Cinnamon Toast Crunch', 'name_Clusters',\n",
       "       'name_Cocoa Puffs', 'name_Corn Chex', 'name_Corn Flakes',\n",
       "       'name_Corn Pops', 'name_Count Chocula', 'name_Cracklin' Oat Bran',\n",
       "       'name_Cream of Wheat (Quick)', 'name_Crispix',\n",
       "       'name_Crispy Wheat & Raisins', 'name_Double Chex', 'name_Froot Loops',\n",
       "       'name_Frosted Flakes', 'name_Frosted Mini-Wheats',\n",
       "       'name_Fruit & Fibre Dates; Walnuts; and Oats', 'name_Fruitful Bran',\n",
       "       'name_Fruity Pebbles', 'name_Golden Crisp', 'name_Golden Grahams',\n",
       "       'name_Grape Nuts Flakes', 'name_Grape-Nuts', 'name_Great Grains Pecan',\n",
       "       'name_Honey Graham Ohs', 'name_Honey Nut Cheerios', 'name_Honey-comb',\n",
       "       'name_Just Right Crunchy  Nuggets', 'name_Just Right Fruit & Nut',\n",
       "       'name_Kix', 'name_Life', 'name_Lucky Charms', 'name_Maypo',\n",
       "       'name_Muesli Raisins; Dates; & Almonds',\n",
       "       'name_Muesli Raisins; Peaches; & Pecans', 'name_Mueslix Crispy Blend',\n",
       "       'name_Multi-Grain Cheerios', 'name_Nut&Honey Crunch',\n",
       "       'name_Nutri-Grain Almond-Raisin', 'name_Nutri-grain Wheat',\n",
       "       'name_Oatmeal Raisin Crisp', 'name_Post Nat. Raisin Bran',\n",
       "       'name_Product 19', 'name_Puffed Rice', 'name_Puffed Wheat',\n",
       "       'name_Quaker Oat Squares', 'name_Quaker Oatmeal', 'name_Raisin Bran',\n",
       "       'name_Raisin Nut Bran', 'name_Raisin Squares', 'name_Rice Chex',\n",
       "       'name_Rice Krispies', 'name_Shredded Wheat',\n",
       "       'name_Shredded Wheat 'n'Bran', 'name_Shredded Wheat spoon size',\n",
       "       'name_Smacks', 'name_Special K', 'name_Strawberry Fruit Wheats',\n",
       "       'name_Total Corn Flakes', 'name_Total Raisin Bran',\n",
       "       'name_Total Whole Grain', 'name_Triples', 'name_Trix',\n",
       "       'name_Wheat Chex', 'name_Wheaties', 'name_Wheaties Honey Gold'],\n",
       "      dtype='object')"
      ]
     },
     "execution_count": 51,
     "metadata": {},
     "output_type": "execute_result"
    }
   ],
   "source": [
    "column_names = x.columns\n",
    "column_names"
   ]
  },
  {
   "cell_type": "code",
   "execution_count": 52,
   "id": "9134be82",
   "metadata": {},
   "outputs": [
    {
     "data": {
      "text/html": [
       "<div>\n",
       "<style scoped>\n",
       "    .dataframe tbody tr th:only-of-type {\n",
       "        vertical-align: middle;\n",
       "    }\n",
       "\n",
       "    .dataframe tbody tr th {\n",
       "        vertical-align: top;\n",
       "    }\n",
       "\n",
       "    .dataframe thead th {\n",
       "        text-align: right;\n",
       "    }\n",
       "</style>\n",
       "<table border=\"1\" class=\"dataframe\">\n",
       "  <thead>\n",
       "    <tr style=\"text-align: right;\">\n",
       "      <th></th>\n",
       "      <th>0</th>\n",
       "    </tr>\n",
       "  </thead>\n",
       "  <tbody>\n",
       "    <tr>\n",
       "      <th>mfr</th>\n",
       "      <td>3.0</td>\n",
       "    </tr>\n",
       "    <tr>\n",
       "      <th>type</th>\n",
       "      <td>0.0</td>\n",
       "    </tr>\n",
       "    <tr>\n",
       "      <th>calories</th>\n",
       "      <td>110.0</td>\n",
       "    </tr>\n",
       "    <tr>\n",
       "      <th>protein</th>\n",
       "      <td>4.0</td>\n",
       "    </tr>\n",
       "    <tr>\n",
       "      <th>fat</th>\n",
       "      <td>1.0</td>\n",
       "    </tr>\n",
       "    <tr>\n",
       "      <th>...</th>\n",
       "      <td>...</td>\n",
       "    </tr>\n",
       "    <tr>\n",
       "      <th>name_Triples</th>\n",
       "      <td>0.0</td>\n",
       "    </tr>\n",
       "    <tr>\n",
       "      <th>name_Trix</th>\n",
       "      <td>0.0</td>\n",
       "    </tr>\n",
       "    <tr>\n",
       "      <th>name_Wheat Chex</th>\n",
       "      <td>0.0</td>\n",
       "    </tr>\n",
       "    <tr>\n",
       "      <th>name_Wheaties</th>\n",
       "      <td>0.0</td>\n",
       "    </tr>\n",
       "    <tr>\n",
       "      <th>name_Wheaties Honey Gold</th>\n",
       "      <td>0.0</td>\n",
       "    </tr>\n",
       "  </tbody>\n",
       "</table>\n",
       "<p>89 rows × 1 columns</p>\n",
       "</div>"
      ],
      "text/plain": [
       "                              0\n",
       "mfr                         3.0\n",
       "type                        0.0\n",
       "calories                  110.0\n",
       "protein                     4.0\n",
       "fat                         1.0\n",
       "...                         ...\n",
       "name_Triples                0.0\n",
       "name_Trix                   0.0\n",
       "name_Wheat Chex             0.0\n",
       "name_Wheaties               0.0\n",
       "name_Wheaties Honey Gold    0.0\n",
       "\n",
       "[89 rows x 1 columns]"
      ]
     },
     "execution_count": 52,
     "metadata": {},
     "output_type": "execute_result"
    }
   ],
   "source": [
    "x.head(1).T"
   ]
  },
  {
   "cell_type": "markdown",
   "id": "48cd3067",
   "metadata": {},
   "source": [
    "## user input"
   ]
  },
  {
   "cell_type": "code",
   "execution_count": 53,
   "id": "fbf0158e",
   "metadata": {},
   "outputs": [
    {
     "name": "stdout",
     "output_type": "stream",
     "text": [
      "name_Wheat Chex\n"
     ]
    }
   ],
   "source": [
    "mfr = 'K'\n",
    "types = 'C'\n",
    "calories = 110\n",
    "protein = 4\n",
    "fat = 2\n",
    "sodium = 130\n",
    "fiber= 1.5\n",
    "carbo = 5\n",
    "sugars = 6\n",
    "potass = 87.5\n",
    "shelf = 3\n",
    "cups = 1.22\n",
    "name = 'Wheat Chex'\n",
    "\n",
    "name_col = 'name_' + name\n",
    "print(name_col)"
   ]
  },
  {
   "cell_type": "code",
   "execution_count": 54,
   "id": "5d19e6ea",
   "metadata": {},
   "outputs": [],
   "source": [
    "mfr_dict = {'K': 2, 'G': 1, 'P': 4, 'Q': 5, 'R': 6, 'N': 3, 'A': 0}\n",
    "type_dict = {'C': 0, 'H': 1}"
   ]
  },
  {
   "cell_type": "code",
   "execution_count": 55,
   "id": "254612b3",
   "metadata": {},
   "outputs": [
    {
     "data": {
      "text/plain": [
       "86"
      ]
     },
     "execution_count": 55,
     "metadata": {},
     "output_type": "execute_result"
    }
   ],
   "source": [
    "name_index = np.where(column_names == name_col)[0][0]\n",
    "name_index"
   ]
  },
  {
   "cell_type": "code",
   "execution_count": 56,
   "id": "51dc1091",
   "metadata": {},
   "outputs": [
    {
     "data": {
      "text/plain": [
       "array([0, 0, 0, 0, 0, 0, 0, 0, 0, 0, 0, 0, 0, 0, 0, 0, 0, 0, 0, 0, 0, 0,\n",
       "       0, 0, 0, 0, 0, 0, 0, 0, 0, 0, 0, 0, 0, 0, 0, 0, 0, 0, 0, 0, 0, 0,\n",
       "       0, 0, 0, 0, 0, 0, 0, 0, 0, 0, 0, 0, 0, 0, 0, 0, 0, 0, 0, 0, 0, 0,\n",
       "       0, 0, 0, 0, 0, 0, 0, 0, 0, 0, 0, 0, 0, 0, 0, 0, 0, 0, 0, 0, 0, 0,\n",
       "       0])"
      ]
     },
     "execution_count": 56,
     "metadata": {},
     "output_type": "execute_result"
    }
   ],
   "source": [
    "array = np.zeros(column_names.shape[0],dtype = int)\n",
    "array"
   ]
  },
  {
   "cell_type": "code",
   "execution_count": 57,
   "id": "acca761a",
   "metadata": {},
   "outputs": [
    {
     "data": {
      "text/plain": [
       "array([  2,   0, 110,   4,   2, 130,   1,   5,   6,  87,   3,   1,   0,\n",
       "         0,   0,   0,   0,   0,   0,   0,   0,   0,   0,   0,   0,   0,\n",
       "         0,   0,   0,   0,   0,   0,   0,   0,   0,   0,   0,   0,   0,\n",
       "         0,   0,   0,   0,   0,   0,   0,   0,   0,   0,   0,   0,   0,\n",
       "         0,   0,   0,   0,   0,   0,   0,   0,   0,   0,   0,   0,   0,\n",
       "         0,   0,   0,   0,   0,   0,   0,   0,   0,   0,   0,   0,   0,\n",
       "         0,   0,   0,   0,   0,   0,   0,   0,   1,   0,   0])"
      ]
     },
     "execution_count": 57,
     "metadata": {},
     "output_type": "execute_result"
    }
   ],
   "source": [
    "array[0] = mfr_dict[mfr]\n",
    "array[1] = type_dict[types]\n",
    "array[2] = calories\n",
    "array[3] = protein\n",
    "array[4] = fat\n",
    "array[5] = sodium\n",
    "array[6] = fiber\n",
    "array[7] = carbo\n",
    "array[8] = sugars\n",
    "array[9] = potass\n",
    "array[10] = shelf\n",
    "array[11] = cups\n",
    "array[name_index] = 1\n",
    "\n",
    "array"
   ]
  },
  {
   "cell_type": "code",
   "execution_count": 58,
   "id": "8688c668",
   "metadata": {},
   "outputs": [
    {
     "name": "stdout",
     "output_type": "stream",
     "text": [
      "predicted ratings of cereal is 48.747371344562346 %\n"
     ]
    }
   ],
   "source": [
    "predicted_rating = cereal.predict([array])[0]\n",
    "print(f\"predicted ratings of cereal is {predicted_rating} %\")"
   ]
  },
  {
   "cell_type": "code",
   "execution_count": 59,
   "id": "93d632ea",
   "metadata": {},
   "outputs": [
    {
     "data": {
      "text/plain": [
       "{'mfr_dict': {'K': 2, 'G': 1, 'P': 4, 'Q': 5, 'R': 6, 'N': 3, 'A': 0},\n",
       " 'type_dict': {'C': 0, 'H': 1},\n",
       " 'columns': ['mfr',\n",
       "  'type',\n",
       "  'calories',\n",
       "  'protein',\n",
       "  'fat',\n",
       "  'sodium',\n",
       "  'fiber',\n",
       "  'carbo',\n",
       "  'sugars',\n",
       "  'potass',\n",
       "  'shelf',\n",
       "  'cups',\n",
       "  'name_100% Bran',\n",
       "  'name_100% Natural Bran',\n",
       "  'name_All-Bran',\n",
       "  'name_All-Bran with Extra Fiber',\n",
       "  'name_Almond Delight',\n",
       "  'name_Apple Cinnamon Cheerios',\n",
       "  'name_Apple Jacks',\n",
       "  'name_Basic 4',\n",
       "  'name_Bran Chex',\n",
       "  'name_Bran Flakes',\n",
       "  \"name_Cap'n'Crunch\",\n",
       "  'name_Cheerios',\n",
       "  'name_Cinnamon Toast Crunch',\n",
       "  'name_Clusters',\n",
       "  'name_Cocoa Puffs',\n",
       "  'name_Corn Chex',\n",
       "  'name_Corn Flakes',\n",
       "  'name_Corn Pops',\n",
       "  'name_Count Chocula',\n",
       "  \"name_Cracklin' Oat Bran\",\n",
       "  'name_Cream of Wheat (Quick)',\n",
       "  'name_Crispix',\n",
       "  'name_Crispy Wheat & Raisins',\n",
       "  'name_Double Chex',\n",
       "  'name_Froot Loops',\n",
       "  'name_Frosted Flakes',\n",
       "  'name_Frosted Mini-Wheats',\n",
       "  'name_Fruit & Fibre Dates; Walnuts; and Oats',\n",
       "  'name_Fruitful Bran',\n",
       "  'name_Fruity Pebbles',\n",
       "  'name_Golden Crisp',\n",
       "  'name_Golden Grahams',\n",
       "  'name_Grape Nuts Flakes',\n",
       "  'name_Grape-Nuts',\n",
       "  'name_Great Grains Pecan',\n",
       "  'name_Honey Graham Ohs',\n",
       "  'name_Honey Nut Cheerios',\n",
       "  'name_Honey-comb',\n",
       "  'name_Just Right Crunchy  Nuggets',\n",
       "  'name_Just Right Fruit & Nut',\n",
       "  'name_Kix',\n",
       "  'name_Life',\n",
       "  'name_Lucky Charms',\n",
       "  'name_Maypo',\n",
       "  'name_Muesli Raisins; Dates; & Almonds',\n",
       "  'name_Muesli Raisins; Peaches; & Pecans',\n",
       "  'name_Mueslix Crispy Blend',\n",
       "  'name_Multi-Grain Cheerios',\n",
       "  'name_Nut&Honey Crunch',\n",
       "  'name_Nutri-Grain Almond-Raisin',\n",
       "  'name_Nutri-grain Wheat',\n",
       "  'name_Oatmeal Raisin Crisp',\n",
       "  'name_Post Nat. Raisin Bran',\n",
       "  'name_Product 19',\n",
       "  'name_Puffed Rice',\n",
       "  'name_Puffed Wheat',\n",
       "  'name_Quaker Oat Squares',\n",
       "  'name_Quaker Oatmeal',\n",
       "  'name_Raisin Bran',\n",
       "  'name_Raisin Nut Bran',\n",
       "  'name_Raisin Squares',\n",
       "  'name_Rice Chex',\n",
       "  'name_Rice Krispies',\n",
       "  'name_Shredded Wheat',\n",
       "  \"name_Shredded Wheat 'n'Bran\",\n",
       "  'name_Shredded Wheat spoon size',\n",
       "  'name_Smacks',\n",
       "  'name_Special K',\n",
       "  'name_Strawberry Fruit Wheats',\n",
       "  'name_Total Corn Flakes',\n",
       "  'name_Total Raisin Bran',\n",
       "  'name_Total Whole Grain',\n",
       "  'name_Triples',\n",
       "  'name_Trix',\n",
       "  'name_Wheat Chex',\n",
       "  'name_Wheaties',\n",
       "  'name_Wheaties Honey Gold']}"
      ]
     },
     "execution_count": 59,
     "metadata": {},
     "output_type": "execute_result"
    }
   ],
   "source": [
    "cereal_data = {\"mfr_dict\":mfr_dict,\"type_dict\":type_dict,\"columns\":list(column_names)}\n",
    "cereal_data"
   ]
  },
  {
   "cell_type": "markdown",
   "id": "71a699b0",
   "metadata": {},
   "source": [
    "# pickle file"
   ]
  },
  {
   "cell_type": "code",
   "execution_count": 60,
   "id": "60db8c3d",
   "metadata": {},
   "outputs": [],
   "source": [
    "import pickle\n",
    "with open(\"cereal.pkl\",\"wb\") as f:\n",
    "    pickle.dump(cereal,f)"
   ]
  },
  {
   "cell_type": "markdown",
   "id": "6ba2a55d",
   "metadata": {},
   "source": [
    "# json file"
   ]
  },
  {
   "cell_type": "code",
   "execution_count": 61,
   "id": "7d6f15e1",
   "metadata": {},
   "outputs": [],
   "source": [
    "import json\n",
    "with open(\"cereal_data.json\",\"w\") as f:\n",
    "    json.dump(cereal_data,f)"
   ]
  },
  {
   "cell_type": "code",
   "execution_count": null,
   "id": "ac5032fd",
   "metadata": {},
   "outputs": [],
   "source": []
  }
 ],
 "metadata": {
  "kernelspec": {
   "display_name": "Python 3 (ipykernel)",
   "language": "python",
   "name": "python3"
  },
  "language_info": {
   "codemirror_mode": {
    "name": "ipython",
    "version": 3
   },
   "file_extension": ".py",
   "mimetype": "text/x-python",
   "name": "python",
   "nbconvert_exporter": "python",
   "pygments_lexer": "ipython3",
   "version": "3.10.5"
  }
 },
 "nbformat": 4,
 "nbformat_minor": 5
}
